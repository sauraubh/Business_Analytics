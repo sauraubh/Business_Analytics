{
 "cells": [
  {
   "cell_type": "markdown",
   "metadata": {},
   "source": [
    "# Project Goal : To help optimize marketing expenses of Yandex.Afisha"
   ]
  },
  {
   "cell_type": "markdown",
   "metadata": {},
   "source": [
    "## Download the data and prepare it for analysis "
   ]
  },
  {
   "cell_type": "code",
   "execution_count": 1,
   "metadata": {},
   "outputs": [
    {
     "name": "stderr",
     "output_type": "stream",
     "text": [
      "/opt/conda/lib/python3.7/site-packages/statsmodels/tools/_testing.py:19: FutureWarning: pandas.util.testing is deprecated. Use the functions in the public API at pandas.testing instead.\n",
      "  import pandas.util.testing as tm\n"
     ]
    }
   ],
   "source": [
    "import pandas as pd\n",
    "import numpy as np\n",
    "import matplotlib as mpl\n",
    "import matplotlib.pyplot as plt\n",
    "import seaborn as sns\n",
    "import datetime"
   ]
  },
  {
   "cell_type": "code",
   "execution_count": 2,
   "metadata": {},
   "outputs": [
    {
     "name": "stdout",
     "output_type": "stream",
     "text": [
      "<class 'pandas.core.frame.DataFrame'>\n",
      "RangeIndex: 359400 entries, 0 to 359399\n",
      "Data columns (total 5 columns):\n",
      " #   Column     Non-Null Count   Dtype         \n",
      "---  ------     --------------   -----         \n",
      " 0   Device     359400 non-null  category      \n",
      " 1   End Ts     359400 non-null  datetime64[ns]\n",
      " 2   Source Id  359400 non-null  int64         \n",
      " 3   Start Ts   359400 non-null  datetime64[ns]\n",
      " 4   Uid        359400 non-null  uint64        \n",
      "dtypes: category(1), datetime64[ns](2), int64(1), uint64(1)\n",
      "memory usage: 11.3 MB\n",
      "None\n",
      "           Source Id           Uid\n",
      "count  359400.000000  3.594000e+05\n",
      "mean        3.750515  9.202557e+18\n",
      "std         1.917116  5.298433e+18\n",
      "min         1.000000  1.186350e+13\n",
      "25%         3.000000  4.613407e+18\n",
      "50%         4.000000  9.227413e+18\n",
      "75%         5.000000  1.372824e+19\n",
      "max        10.000000  1.844668e+19\n"
     ]
    },
    {
     "data": {
      "text/html": [
       "<div>\n",
       "<style scoped>\n",
       "    .dataframe tbody tr th:only-of-type {\n",
       "        vertical-align: middle;\n",
       "    }\n",
       "\n",
       "    .dataframe tbody tr th {\n",
       "        vertical-align: top;\n",
       "    }\n",
       "\n",
       "    .dataframe thead th {\n",
       "        text-align: right;\n",
       "    }\n",
       "</style>\n",
       "<table border=\"1\" class=\"dataframe\">\n",
       "  <thead>\n",
       "    <tr style=\"text-align: right;\">\n",
       "      <th></th>\n",
       "      <th>Device</th>\n",
       "      <th>End Ts</th>\n",
       "      <th>Source Id</th>\n",
       "      <th>Start Ts</th>\n",
       "      <th>Uid</th>\n",
       "    </tr>\n",
       "  </thead>\n",
       "  <tbody>\n",
       "    <tr>\n",
       "      <th>0</th>\n",
       "      <td>touch</td>\n",
       "      <td>2017-12-20 17:38:00</td>\n",
       "      <td>4</td>\n",
       "      <td>2017-12-20 17:20:00</td>\n",
       "      <td>16879256277535980062</td>\n",
       "    </tr>\n",
       "    <tr>\n",
       "      <th>1</th>\n",
       "      <td>desktop</td>\n",
       "      <td>2018-02-19 17:21:00</td>\n",
       "      <td>2</td>\n",
       "      <td>2018-02-19 16:53:00</td>\n",
       "      <td>104060357244891740</td>\n",
       "    </tr>\n",
       "    <tr>\n",
       "      <th>2</th>\n",
       "      <td>touch</td>\n",
       "      <td>2017-07-01 01:54:00</td>\n",
       "      <td>5</td>\n",
       "      <td>2017-07-01 01:54:00</td>\n",
       "      <td>7459035603376831527</td>\n",
       "    </tr>\n",
       "    <tr>\n",
       "      <th>3</th>\n",
       "      <td>desktop</td>\n",
       "      <td>2018-05-20 11:23:00</td>\n",
       "      <td>9</td>\n",
       "      <td>2018-05-20 10:59:00</td>\n",
       "      <td>16174680259334210214</td>\n",
       "    </tr>\n",
       "    <tr>\n",
       "      <th>4</th>\n",
       "      <td>desktop</td>\n",
       "      <td>2017-12-27 14:06:00</td>\n",
       "      <td>3</td>\n",
       "      <td>2017-12-27 14:06:00</td>\n",
       "      <td>9969694820036681168</td>\n",
       "    </tr>\n",
       "    <tr>\n",
       "      <th>...</th>\n",
       "      <td>...</td>\n",
       "      <td>...</td>\n",
       "      <td>...</td>\n",
       "      <td>...</td>\n",
       "      <td>...</td>\n",
       "    </tr>\n",
       "    <tr>\n",
       "      <th>359395</th>\n",
       "      <td>desktop</td>\n",
       "      <td>2017-07-29 19:07:19</td>\n",
       "      <td>2</td>\n",
       "      <td>2017-07-29 19:07:00</td>\n",
       "      <td>18363291481961487539</td>\n",
       "    </tr>\n",
       "    <tr>\n",
       "      <th>359396</th>\n",
       "      <td>touch</td>\n",
       "      <td>2018-01-25 17:38:19</td>\n",
       "      <td>1</td>\n",
       "      <td>2018-01-25 17:38:00</td>\n",
       "      <td>18370831553019119586</td>\n",
       "    </tr>\n",
       "    <tr>\n",
       "      <th>359397</th>\n",
       "      <td>desktop</td>\n",
       "      <td>2018-03-03 10:12:19</td>\n",
       "      <td>4</td>\n",
       "      <td>2018-03-03 10:12:00</td>\n",
       "      <td>18387297585500748294</td>\n",
       "    </tr>\n",
       "    <tr>\n",
       "      <th>359398</th>\n",
       "      <td>desktop</td>\n",
       "      <td>2017-11-02 10:12:19</td>\n",
       "      <td>5</td>\n",
       "      <td>2017-11-02 10:12:00</td>\n",
       "      <td>18388616944624776485</td>\n",
       "    </tr>\n",
       "    <tr>\n",
       "      <th>359399</th>\n",
       "      <td>touch</td>\n",
       "      <td>2017-09-10 13:13:19</td>\n",
       "      <td>2</td>\n",
       "      <td>2017-09-10 13:13:00</td>\n",
       "      <td>18396128934054549559</td>\n",
       "    </tr>\n",
       "  </tbody>\n",
       "</table>\n",
       "<p>359400 rows × 5 columns</p>\n",
       "</div>"
      ],
      "text/plain": [
       "         Device              End Ts  Source Id            Start Ts  \\\n",
       "0         touch 2017-12-20 17:38:00          4 2017-12-20 17:20:00   \n",
       "1       desktop 2018-02-19 17:21:00          2 2018-02-19 16:53:00   \n",
       "2         touch 2017-07-01 01:54:00          5 2017-07-01 01:54:00   \n",
       "3       desktop 2018-05-20 11:23:00          9 2018-05-20 10:59:00   \n",
       "4       desktop 2017-12-27 14:06:00          3 2017-12-27 14:06:00   \n",
       "...         ...                 ...        ...                 ...   \n",
       "359395  desktop 2017-07-29 19:07:19          2 2017-07-29 19:07:00   \n",
       "359396    touch 2018-01-25 17:38:19          1 2018-01-25 17:38:00   \n",
       "359397  desktop 2018-03-03 10:12:19          4 2018-03-03 10:12:00   \n",
       "359398  desktop 2017-11-02 10:12:19          5 2017-11-02 10:12:00   \n",
       "359399    touch 2017-09-10 13:13:19          2 2017-09-10 13:13:00   \n",
       "\n",
       "                         Uid  \n",
       "0       16879256277535980062  \n",
       "1         104060357244891740  \n",
       "2        7459035603376831527  \n",
       "3       16174680259334210214  \n",
       "4        9969694820036681168  \n",
       "...                      ...  \n",
       "359395  18363291481961487539  \n",
       "359396  18370831553019119586  \n",
       "359397  18387297585500748294  \n",
       "359398  18388616944624776485  \n",
       "359399  18396128934054549559  \n",
       "\n",
       "[359400 rows x 5 columns]"
      ]
     },
     "execution_count": 2,
     "metadata": {},
     "output_type": "execute_result"
    }
   ],
   "source": [
    "# Import visit logs data, converting category type and datetime types\n",
    "visit_logs = pd.read_csv('/datasets/visits_log_us.csv', dtype={'Device':'category'},parse_dates=['Start Ts','End Ts'])\n",
    "print(visit_logs.info())\n",
    "print(visit_logs.describe())\n",
    "visit_logs"
   ]
  },
  {
   "cell_type": "markdown",
   "metadata": {},
   "source": [
    "Imported visit logs data, converting category type and datetime types looked general information about the dataset."
   ]
  },
  {
   "cell_type": "code",
   "execution_count": 3,
   "metadata": {},
   "outputs": [
    {
     "data": {
      "text/plain": [
       "Device       0\n",
       "End Ts       0\n",
       "Source Id    0\n",
       "Start Ts     0\n",
       "Uid          0\n",
       "dtype: int64"
      ]
     },
     "execution_count": 3,
     "metadata": {},
     "output_type": "execute_result"
    }
   ],
   "source": [
    "#Finding missing values \n",
    "visit_logs.isnull().sum()"
   ]
  },
  {
   "cell_type": "code",
   "execution_count": 4,
   "metadata": {},
   "outputs": [
    {
     "data": {
      "text/plain": [
       "0"
      ]
     },
     "execution_count": 4,
     "metadata": {},
     "output_type": "execute_result"
    }
   ],
   "source": [
    "#Finding Duplicates\n",
    "visit_logs.duplicated().sum()"
   ]
  },
  {
   "cell_type": "code",
   "execution_count": 5,
   "metadata": {},
   "outputs": [
    {
     "data": {
      "text/html": [
       "<div>\n",
       "<style scoped>\n",
       "    .dataframe tbody tr th:only-of-type {\n",
       "        vertical-align: middle;\n",
       "    }\n",
       "\n",
       "    .dataframe tbody tr th {\n",
       "        vertical-align: top;\n",
       "    }\n",
       "\n",
       "    .dataframe thead th {\n",
       "        text-align: right;\n",
       "    }\n",
       "</style>\n",
       "<table border=\"1\" class=\"dataframe\">\n",
       "  <thead>\n",
       "    <tr style=\"text-align: right;\">\n",
       "      <th></th>\n",
       "      <th>device_type</th>\n",
       "      <th>session_end</th>\n",
       "      <th>source_id</th>\n",
       "      <th>session_start</th>\n",
       "      <th>user_id</th>\n",
       "    </tr>\n",
       "  </thead>\n",
       "  <tbody>\n",
       "    <tr>\n",
       "      <th>0</th>\n",
       "      <td>touch</td>\n",
       "      <td>2017-12-20 17:38:00</td>\n",
       "      <td>4</td>\n",
       "      <td>2017-12-20 17:20:00</td>\n",
       "      <td>16879256277535980062</td>\n",
       "    </tr>\n",
       "    <tr>\n",
       "      <th>1</th>\n",
       "      <td>desktop</td>\n",
       "      <td>2018-02-19 17:21:00</td>\n",
       "      <td>2</td>\n",
       "      <td>2018-02-19 16:53:00</td>\n",
       "      <td>104060357244891740</td>\n",
       "    </tr>\n",
       "    <tr>\n",
       "      <th>2</th>\n",
       "      <td>touch</td>\n",
       "      <td>2017-07-01 01:54:00</td>\n",
       "      <td>5</td>\n",
       "      <td>2017-07-01 01:54:00</td>\n",
       "      <td>7459035603376831527</td>\n",
       "    </tr>\n",
       "    <tr>\n",
       "      <th>3</th>\n",
       "      <td>desktop</td>\n",
       "      <td>2018-05-20 11:23:00</td>\n",
       "      <td>9</td>\n",
       "      <td>2018-05-20 10:59:00</td>\n",
       "      <td>16174680259334210214</td>\n",
       "    </tr>\n",
       "    <tr>\n",
       "      <th>4</th>\n",
       "      <td>desktop</td>\n",
       "      <td>2017-12-27 14:06:00</td>\n",
       "      <td>3</td>\n",
       "      <td>2017-12-27 14:06:00</td>\n",
       "      <td>9969694820036681168</td>\n",
       "    </tr>\n",
       "    <tr>\n",
       "      <th>...</th>\n",
       "      <td>...</td>\n",
       "      <td>...</td>\n",
       "      <td>...</td>\n",
       "      <td>...</td>\n",
       "      <td>...</td>\n",
       "    </tr>\n",
       "    <tr>\n",
       "      <th>359395</th>\n",
       "      <td>desktop</td>\n",
       "      <td>2017-07-29 19:07:19</td>\n",
       "      <td>2</td>\n",
       "      <td>2017-07-29 19:07:00</td>\n",
       "      <td>18363291481961487539</td>\n",
       "    </tr>\n",
       "    <tr>\n",
       "      <th>359396</th>\n",
       "      <td>touch</td>\n",
       "      <td>2018-01-25 17:38:19</td>\n",
       "      <td>1</td>\n",
       "      <td>2018-01-25 17:38:00</td>\n",
       "      <td>18370831553019119586</td>\n",
       "    </tr>\n",
       "    <tr>\n",
       "      <th>359397</th>\n",
       "      <td>desktop</td>\n",
       "      <td>2018-03-03 10:12:19</td>\n",
       "      <td>4</td>\n",
       "      <td>2018-03-03 10:12:00</td>\n",
       "      <td>18387297585500748294</td>\n",
       "    </tr>\n",
       "    <tr>\n",
       "      <th>359398</th>\n",
       "      <td>desktop</td>\n",
       "      <td>2017-11-02 10:12:19</td>\n",
       "      <td>5</td>\n",
       "      <td>2017-11-02 10:12:00</td>\n",
       "      <td>18388616944624776485</td>\n",
       "    </tr>\n",
       "    <tr>\n",
       "      <th>359399</th>\n",
       "      <td>touch</td>\n",
       "      <td>2017-09-10 13:13:19</td>\n",
       "      <td>2</td>\n",
       "      <td>2017-09-10 13:13:00</td>\n",
       "      <td>18396128934054549559</td>\n",
       "    </tr>\n",
       "  </tbody>\n",
       "</table>\n",
       "<p>359400 rows × 5 columns</p>\n",
       "</div>"
      ],
      "text/plain": [
       "       device_type         session_end  source_id       session_start  \\\n",
       "0            touch 2017-12-20 17:38:00          4 2017-12-20 17:20:00   \n",
       "1          desktop 2018-02-19 17:21:00          2 2018-02-19 16:53:00   \n",
       "2            touch 2017-07-01 01:54:00          5 2017-07-01 01:54:00   \n",
       "3          desktop 2018-05-20 11:23:00          9 2018-05-20 10:59:00   \n",
       "4          desktop 2017-12-27 14:06:00          3 2017-12-27 14:06:00   \n",
       "...            ...                 ...        ...                 ...   \n",
       "359395     desktop 2017-07-29 19:07:19          2 2017-07-29 19:07:00   \n",
       "359396       touch 2018-01-25 17:38:19          1 2018-01-25 17:38:00   \n",
       "359397     desktop 2018-03-03 10:12:19          4 2018-03-03 10:12:00   \n",
       "359398     desktop 2017-11-02 10:12:19          5 2017-11-02 10:12:00   \n",
       "359399       touch 2017-09-10 13:13:19          2 2017-09-10 13:13:00   \n",
       "\n",
       "                     user_id  \n",
       "0       16879256277535980062  \n",
       "1         104060357244891740  \n",
       "2        7459035603376831527  \n",
       "3       16174680259334210214  \n",
       "4        9969694820036681168  \n",
       "...                      ...  \n",
       "359395  18363291481961487539  \n",
       "359396  18370831553019119586  \n",
       "359397  18387297585500748294  \n",
       "359398  18388616944624776485  \n",
       "359399  18396128934054549559  \n",
       "\n",
       "[359400 rows x 5 columns]"
      ]
     },
     "execution_count": 5,
     "metadata": {},
     "output_type": "execute_result"
    }
   ],
   "source": [
    "# Modify visit_logs column names\n",
    "visit_logs = visit_logs.rename(columns={\"Device\": \"device_type\", \"End Ts\":\"session_end\", \"Start Ts\":\"session_start\", \"Source Id\":\"source_id\",\"Uid\":\"user_id\"})\n",
    "visit_logs"
   ]
  },
  {
   "cell_type": "code",
   "execution_count": 6,
   "metadata": {},
   "outputs": [
    {
     "name": "stdout",
     "output_type": "stream",
     "text": [
      "<class 'pandas.core.frame.DataFrame'>\n",
      "RangeIndex: 50415 entries, 0 to 50414\n",
      "Data columns (total 3 columns):\n",
      " #   Column   Non-Null Count  Dtype         \n",
      "---  ------   --------------  -----         \n",
      " 0   Buy Ts   50415 non-null  datetime64[ns]\n",
      " 1   Revenue  50415 non-null  float64       \n",
      " 2   Uid      50415 non-null  uint64        \n",
      "dtypes: datetime64[ns](1), float64(1), uint64(1)\n",
      "memory usage: 1.2 MB\n",
      "None\n",
      "            Revenue           Uid\n",
      "count  50415.000000  5.041500e+04\n",
      "mean       4.999647  9.098161e+18\n",
      "std       21.818359  5.285742e+18\n",
      "min        0.000000  3.135781e+14\n",
      "25%        1.220000  4.533567e+18\n",
      "50%        2.500000  9.102274e+18\n",
      "75%        4.890000  1.368290e+19\n",
      "max     2633.280000  1.844617e+19\n"
     ]
    },
    {
     "data": {
      "text/html": [
       "<div>\n",
       "<style scoped>\n",
       "    .dataframe tbody tr th:only-of-type {\n",
       "        vertical-align: middle;\n",
       "    }\n",
       "\n",
       "    .dataframe tbody tr th {\n",
       "        vertical-align: top;\n",
       "    }\n",
       "\n",
       "    .dataframe thead th {\n",
       "        text-align: right;\n",
       "    }\n",
       "</style>\n",
       "<table border=\"1\" class=\"dataframe\">\n",
       "  <thead>\n",
       "    <tr style=\"text-align: right;\">\n",
       "      <th></th>\n",
       "      <th>Buy Ts</th>\n",
       "      <th>Revenue</th>\n",
       "      <th>Uid</th>\n",
       "    </tr>\n",
       "  </thead>\n",
       "  <tbody>\n",
       "    <tr>\n",
       "      <th>0</th>\n",
       "      <td>2017-06-01 00:10:00</td>\n",
       "      <td>17.00</td>\n",
       "      <td>10329302124590727494</td>\n",
       "    </tr>\n",
       "    <tr>\n",
       "      <th>1</th>\n",
       "      <td>2017-06-01 00:25:00</td>\n",
       "      <td>0.55</td>\n",
       "      <td>11627257723692907447</td>\n",
       "    </tr>\n",
       "    <tr>\n",
       "      <th>2</th>\n",
       "      <td>2017-06-01 00:27:00</td>\n",
       "      <td>0.37</td>\n",
       "      <td>17903680561304213844</td>\n",
       "    </tr>\n",
       "    <tr>\n",
       "      <th>3</th>\n",
       "      <td>2017-06-01 00:29:00</td>\n",
       "      <td>0.55</td>\n",
       "      <td>16109239769442553005</td>\n",
       "    </tr>\n",
       "    <tr>\n",
       "      <th>4</th>\n",
       "      <td>2017-06-01 07:58:00</td>\n",
       "      <td>0.37</td>\n",
       "      <td>14200605875248379450</td>\n",
       "    </tr>\n",
       "    <tr>\n",
       "      <th>...</th>\n",
       "      <td>...</td>\n",
       "      <td>...</td>\n",
       "      <td>...</td>\n",
       "    </tr>\n",
       "    <tr>\n",
       "      <th>50410</th>\n",
       "      <td>2018-05-31 23:50:00</td>\n",
       "      <td>4.64</td>\n",
       "      <td>12296626599487328624</td>\n",
       "    </tr>\n",
       "    <tr>\n",
       "      <th>50411</th>\n",
       "      <td>2018-05-31 23:50:00</td>\n",
       "      <td>5.80</td>\n",
       "      <td>11369640365507475976</td>\n",
       "    </tr>\n",
       "    <tr>\n",
       "      <th>50412</th>\n",
       "      <td>2018-05-31 23:54:00</td>\n",
       "      <td>0.30</td>\n",
       "      <td>1786462140797698849</td>\n",
       "    </tr>\n",
       "    <tr>\n",
       "      <th>50413</th>\n",
       "      <td>2018-05-31 23:56:00</td>\n",
       "      <td>3.67</td>\n",
       "      <td>3993697860786194247</td>\n",
       "    </tr>\n",
       "    <tr>\n",
       "      <th>50414</th>\n",
       "      <td>2018-06-01 00:02:00</td>\n",
       "      <td>3.42</td>\n",
       "      <td>83872787173869366</td>\n",
       "    </tr>\n",
       "  </tbody>\n",
       "</table>\n",
       "<p>50415 rows × 3 columns</p>\n",
       "</div>"
      ],
      "text/plain": [
       "                   Buy Ts  Revenue                   Uid\n",
       "0     2017-06-01 00:10:00    17.00  10329302124590727494\n",
       "1     2017-06-01 00:25:00     0.55  11627257723692907447\n",
       "2     2017-06-01 00:27:00     0.37  17903680561304213844\n",
       "3     2017-06-01 00:29:00     0.55  16109239769442553005\n",
       "4     2017-06-01 07:58:00     0.37  14200605875248379450\n",
       "...                   ...      ...                   ...\n",
       "50410 2018-05-31 23:50:00     4.64  12296626599487328624\n",
       "50411 2018-05-31 23:50:00     5.80  11369640365507475976\n",
       "50412 2018-05-31 23:54:00     0.30   1786462140797698849\n",
       "50413 2018-05-31 23:56:00     3.67   3993697860786194247\n",
       "50414 2018-06-01 00:02:00     3.42     83872787173869366\n",
       "\n",
       "[50415 rows x 3 columns]"
      ]
     },
     "execution_count": 6,
     "metadata": {},
     "output_type": "execute_result"
    }
   ],
   "source": [
    "# Import order logs data, converting datetime types\n",
    "order_logs = pd.read_csv('/datasets/orders_log_us.csv',parse_dates=['Buy Ts'])\n",
    "print(order_logs.info())\n",
    "print(order_logs.describe())\n",
    "order_logs"
   ]
  },
  {
   "cell_type": "markdown",
   "metadata": {},
   "source": [
    "Imported order logs data, converting datetime types looked general information about the dataset."
   ]
  },
  {
   "cell_type": "code",
   "execution_count": 7,
   "metadata": {},
   "outputs": [
    {
     "data": {
      "text/plain": [
       "Buy Ts     0\n",
       "Revenue    0\n",
       "Uid        0\n",
       "dtype: int64"
      ]
     },
     "execution_count": 7,
     "metadata": {},
     "output_type": "execute_result"
    }
   ],
   "source": [
    "#Finding missing values \n",
    "order_logs.isnull().sum()"
   ]
  },
  {
   "cell_type": "code",
   "execution_count": 8,
   "metadata": {},
   "outputs": [
    {
     "data": {
      "text/plain": [
       "0"
      ]
     },
     "execution_count": 8,
     "metadata": {},
     "output_type": "execute_result"
    }
   ],
   "source": [
    "#Finding Duplicates\n",
    "order_logs.duplicated().sum()"
   ]
  },
  {
   "cell_type": "code",
   "execution_count": 9,
   "metadata": {},
   "outputs": [
    {
     "data": {
      "text/html": [
       "<div>\n",
       "<style scoped>\n",
       "    .dataframe tbody tr th:only-of-type {\n",
       "        vertical-align: middle;\n",
       "    }\n",
       "\n",
       "    .dataframe tbody tr th {\n",
       "        vertical-align: top;\n",
       "    }\n",
       "\n",
       "    .dataframe thead th {\n",
       "        text-align: right;\n",
       "    }\n",
       "</style>\n",
       "<table border=\"1\" class=\"dataframe\">\n",
       "  <thead>\n",
       "    <tr style=\"text-align: right;\">\n",
       "      <th></th>\n",
       "      <th>order_datetime</th>\n",
       "      <th>revenue</th>\n",
       "      <th>user_id</th>\n",
       "    </tr>\n",
       "  </thead>\n",
       "  <tbody>\n",
       "    <tr>\n",
       "      <th>0</th>\n",
       "      <td>2017-06-01 00:10:00</td>\n",
       "      <td>17.00</td>\n",
       "      <td>10329302124590727494</td>\n",
       "    </tr>\n",
       "    <tr>\n",
       "      <th>1</th>\n",
       "      <td>2017-06-01 00:25:00</td>\n",
       "      <td>0.55</td>\n",
       "      <td>11627257723692907447</td>\n",
       "    </tr>\n",
       "    <tr>\n",
       "      <th>2</th>\n",
       "      <td>2017-06-01 00:27:00</td>\n",
       "      <td>0.37</td>\n",
       "      <td>17903680561304213844</td>\n",
       "    </tr>\n",
       "    <tr>\n",
       "      <th>3</th>\n",
       "      <td>2017-06-01 00:29:00</td>\n",
       "      <td>0.55</td>\n",
       "      <td>16109239769442553005</td>\n",
       "    </tr>\n",
       "    <tr>\n",
       "      <th>4</th>\n",
       "      <td>2017-06-01 07:58:00</td>\n",
       "      <td>0.37</td>\n",
       "      <td>14200605875248379450</td>\n",
       "    </tr>\n",
       "    <tr>\n",
       "      <th>...</th>\n",
       "      <td>...</td>\n",
       "      <td>...</td>\n",
       "      <td>...</td>\n",
       "    </tr>\n",
       "    <tr>\n",
       "      <th>50410</th>\n",
       "      <td>2018-05-31 23:50:00</td>\n",
       "      <td>4.64</td>\n",
       "      <td>12296626599487328624</td>\n",
       "    </tr>\n",
       "    <tr>\n",
       "      <th>50411</th>\n",
       "      <td>2018-05-31 23:50:00</td>\n",
       "      <td>5.80</td>\n",
       "      <td>11369640365507475976</td>\n",
       "    </tr>\n",
       "    <tr>\n",
       "      <th>50412</th>\n",
       "      <td>2018-05-31 23:54:00</td>\n",
       "      <td>0.30</td>\n",
       "      <td>1786462140797698849</td>\n",
       "    </tr>\n",
       "    <tr>\n",
       "      <th>50413</th>\n",
       "      <td>2018-05-31 23:56:00</td>\n",
       "      <td>3.67</td>\n",
       "      <td>3993697860786194247</td>\n",
       "    </tr>\n",
       "    <tr>\n",
       "      <th>50414</th>\n",
       "      <td>2018-06-01 00:02:00</td>\n",
       "      <td>3.42</td>\n",
       "      <td>83872787173869366</td>\n",
       "    </tr>\n",
       "  </tbody>\n",
       "</table>\n",
       "<p>50415 rows × 3 columns</p>\n",
       "</div>"
      ],
      "text/plain": [
       "           order_datetime  revenue               user_id\n",
       "0     2017-06-01 00:10:00    17.00  10329302124590727494\n",
       "1     2017-06-01 00:25:00     0.55  11627257723692907447\n",
       "2     2017-06-01 00:27:00     0.37  17903680561304213844\n",
       "3     2017-06-01 00:29:00     0.55  16109239769442553005\n",
       "4     2017-06-01 07:58:00     0.37  14200605875248379450\n",
       "...                   ...      ...                   ...\n",
       "50410 2018-05-31 23:50:00     4.64  12296626599487328624\n",
       "50411 2018-05-31 23:50:00     5.80  11369640365507475976\n",
       "50412 2018-05-31 23:54:00     0.30   1786462140797698849\n",
       "50413 2018-05-31 23:56:00     3.67   3993697860786194247\n",
       "50414 2018-06-01 00:02:00     3.42     83872787173869366\n",
       "\n",
       "[50415 rows x 3 columns]"
      ]
     },
     "execution_count": 9,
     "metadata": {},
     "output_type": "execute_result"
    }
   ],
   "source": [
    "# Modify order_logs column names\n",
    "order_logs = order_logs.rename(columns={\"Buy Ts\":\"order_datetime\", \"Revenue\":\"revenue\",\"Uid\":\"user_id\"})\n",
    "order_logs"
   ]
  },
  {
   "cell_type": "code",
   "execution_count": 10,
   "metadata": {},
   "outputs": [
    {
     "name": "stdout",
     "output_type": "stream",
     "text": [
      "<class 'pandas.core.frame.DataFrame'>\n",
      "RangeIndex: 2542 entries, 0 to 2541\n",
      "Data columns (total 3 columns):\n",
      " #   Column     Non-Null Count  Dtype         \n",
      "---  ------     --------------  -----         \n",
      " 0   source_id  2542 non-null   int64         \n",
      " 1   dt         2542 non-null   datetime64[ns]\n",
      " 2   costs      2542 non-null   float64       \n",
      "dtypes: datetime64[ns](1), float64(1), int64(1)\n",
      "memory usage: 59.7 KB\n",
      "None\n",
      "         source_id        costs\n",
      "count  2542.000000  2542.000000\n",
      "mean      4.857199   129.477427\n",
      "std       3.181581   156.296628\n",
      "min       1.000000     0.540000\n",
      "25%       2.000000    21.945000\n",
      "50%       4.000000    77.295000\n",
      "75%       9.000000   170.065000\n",
      "max      10.000000  1788.280000\n"
     ]
    },
    {
     "data": {
      "text/html": [
       "<div>\n",
       "<style scoped>\n",
       "    .dataframe tbody tr th:only-of-type {\n",
       "        vertical-align: middle;\n",
       "    }\n",
       "\n",
       "    .dataframe tbody tr th {\n",
       "        vertical-align: top;\n",
       "    }\n",
       "\n",
       "    .dataframe thead th {\n",
       "        text-align: right;\n",
       "    }\n",
       "</style>\n",
       "<table border=\"1\" class=\"dataframe\">\n",
       "  <thead>\n",
       "    <tr style=\"text-align: right;\">\n",
       "      <th></th>\n",
       "      <th>source_id</th>\n",
       "      <th>dt</th>\n",
       "      <th>costs</th>\n",
       "    </tr>\n",
       "  </thead>\n",
       "  <tbody>\n",
       "    <tr>\n",
       "      <th>0</th>\n",
       "      <td>1</td>\n",
       "      <td>2017-06-01</td>\n",
       "      <td>75.20</td>\n",
       "    </tr>\n",
       "    <tr>\n",
       "      <th>1</th>\n",
       "      <td>1</td>\n",
       "      <td>2017-06-02</td>\n",
       "      <td>62.25</td>\n",
       "    </tr>\n",
       "    <tr>\n",
       "      <th>2</th>\n",
       "      <td>1</td>\n",
       "      <td>2017-06-03</td>\n",
       "      <td>36.53</td>\n",
       "    </tr>\n",
       "    <tr>\n",
       "      <th>3</th>\n",
       "      <td>1</td>\n",
       "      <td>2017-06-04</td>\n",
       "      <td>55.00</td>\n",
       "    </tr>\n",
       "    <tr>\n",
       "      <th>4</th>\n",
       "      <td>1</td>\n",
       "      <td>2017-06-05</td>\n",
       "      <td>57.08</td>\n",
       "    </tr>\n",
       "    <tr>\n",
       "      <th>...</th>\n",
       "      <td>...</td>\n",
       "      <td>...</td>\n",
       "      <td>...</td>\n",
       "    </tr>\n",
       "    <tr>\n",
       "      <th>2537</th>\n",
       "      <td>10</td>\n",
       "      <td>2018-05-27</td>\n",
       "      <td>9.92</td>\n",
       "    </tr>\n",
       "    <tr>\n",
       "      <th>2538</th>\n",
       "      <td>10</td>\n",
       "      <td>2018-05-28</td>\n",
       "      <td>21.26</td>\n",
       "    </tr>\n",
       "    <tr>\n",
       "      <th>2539</th>\n",
       "      <td>10</td>\n",
       "      <td>2018-05-29</td>\n",
       "      <td>11.32</td>\n",
       "    </tr>\n",
       "    <tr>\n",
       "      <th>2540</th>\n",
       "      <td>10</td>\n",
       "      <td>2018-05-30</td>\n",
       "      <td>33.15</td>\n",
       "    </tr>\n",
       "    <tr>\n",
       "      <th>2541</th>\n",
       "      <td>10</td>\n",
       "      <td>2018-05-31</td>\n",
       "      <td>17.60</td>\n",
       "    </tr>\n",
       "  </tbody>\n",
       "</table>\n",
       "<p>2542 rows × 3 columns</p>\n",
       "</div>"
      ],
      "text/plain": [
       "      source_id         dt  costs\n",
       "0             1 2017-06-01  75.20\n",
       "1             1 2017-06-02  62.25\n",
       "2             1 2017-06-03  36.53\n",
       "3             1 2017-06-04  55.00\n",
       "4             1 2017-06-05  57.08\n",
       "...         ...        ...    ...\n",
       "2537         10 2018-05-27   9.92\n",
       "2538         10 2018-05-28  21.26\n",
       "2539         10 2018-05-29  11.32\n",
       "2540         10 2018-05-30  33.15\n",
       "2541         10 2018-05-31  17.60\n",
       "\n",
       "[2542 rows x 3 columns]"
      ]
     },
     "execution_count": 10,
     "metadata": {},
     "output_type": "execute_result"
    }
   ],
   "source": [
    "# Import costs data, converting datetime types\n",
    "cost = pd.read_csv('/datasets/costs_us.csv',parse_dates=['dt'])\n",
    "print(cost.info())\n",
    "print(cost.describe())\n",
    "cost"
   ]
  },
  {
   "cell_type": "markdown",
   "metadata": {},
   "source": [
    "Imported cost data, converting datetime types looked general information about the dataset."
   ]
  },
  {
   "cell_type": "code",
   "execution_count": 11,
   "metadata": {},
   "outputs": [
    {
     "data": {
      "text/plain": [
       "source_id    0\n",
       "dt           0\n",
       "costs        0\n",
       "dtype: int64"
      ]
     },
     "execution_count": 11,
     "metadata": {},
     "output_type": "execute_result"
    }
   ],
   "source": [
    "#Finding missing values \n",
    "cost.isnull().sum()"
   ]
  },
  {
   "cell_type": "code",
   "execution_count": 12,
   "metadata": {},
   "outputs": [
    {
     "data": {
      "text/plain": [
       "0"
      ]
     },
     "execution_count": 12,
     "metadata": {},
     "output_type": "execute_result"
    }
   ],
   "source": [
    "#Finding Duplicates\n",
    "cost.duplicated().sum()"
   ]
  },
  {
   "cell_type": "code",
   "execution_count": 13,
   "metadata": {},
   "outputs": [
    {
     "data": {
      "text/html": [
       "<div>\n",
       "<style scoped>\n",
       "    .dataframe tbody tr th:only-of-type {\n",
       "        vertical-align: middle;\n",
       "    }\n",
       "\n",
       "    .dataframe tbody tr th {\n",
       "        vertical-align: top;\n",
       "    }\n",
       "\n",
       "    .dataframe thead th {\n",
       "        text-align: right;\n",
       "    }\n",
       "</style>\n",
       "<table border=\"1\" class=\"dataframe\">\n",
       "  <thead>\n",
       "    <tr style=\"text-align: right;\">\n",
       "      <th></th>\n",
       "      <th>source_id</th>\n",
       "      <th>ad_datetime</th>\n",
       "      <th>ad_expenses</th>\n",
       "    </tr>\n",
       "  </thead>\n",
       "  <tbody>\n",
       "    <tr>\n",
       "      <th>0</th>\n",
       "      <td>1</td>\n",
       "      <td>2017-06-01</td>\n",
       "      <td>75.20</td>\n",
       "    </tr>\n",
       "    <tr>\n",
       "      <th>1</th>\n",
       "      <td>1</td>\n",
       "      <td>2017-06-02</td>\n",
       "      <td>62.25</td>\n",
       "    </tr>\n",
       "    <tr>\n",
       "      <th>2</th>\n",
       "      <td>1</td>\n",
       "      <td>2017-06-03</td>\n",
       "      <td>36.53</td>\n",
       "    </tr>\n",
       "    <tr>\n",
       "      <th>3</th>\n",
       "      <td>1</td>\n",
       "      <td>2017-06-04</td>\n",
       "      <td>55.00</td>\n",
       "    </tr>\n",
       "    <tr>\n",
       "      <th>4</th>\n",
       "      <td>1</td>\n",
       "      <td>2017-06-05</td>\n",
       "      <td>57.08</td>\n",
       "    </tr>\n",
       "    <tr>\n",
       "      <th>...</th>\n",
       "      <td>...</td>\n",
       "      <td>...</td>\n",
       "      <td>...</td>\n",
       "    </tr>\n",
       "    <tr>\n",
       "      <th>2537</th>\n",
       "      <td>10</td>\n",
       "      <td>2018-05-27</td>\n",
       "      <td>9.92</td>\n",
       "    </tr>\n",
       "    <tr>\n",
       "      <th>2538</th>\n",
       "      <td>10</td>\n",
       "      <td>2018-05-28</td>\n",
       "      <td>21.26</td>\n",
       "    </tr>\n",
       "    <tr>\n",
       "      <th>2539</th>\n",
       "      <td>10</td>\n",
       "      <td>2018-05-29</td>\n",
       "      <td>11.32</td>\n",
       "    </tr>\n",
       "    <tr>\n",
       "      <th>2540</th>\n",
       "      <td>10</td>\n",
       "      <td>2018-05-30</td>\n",
       "      <td>33.15</td>\n",
       "    </tr>\n",
       "    <tr>\n",
       "      <th>2541</th>\n",
       "      <td>10</td>\n",
       "      <td>2018-05-31</td>\n",
       "      <td>17.60</td>\n",
       "    </tr>\n",
       "  </tbody>\n",
       "</table>\n",
       "<p>2542 rows × 3 columns</p>\n",
       "</div>"
      ],
      "text/plain": [
       "      source_id ad_datetime  ad_expenses\n",
       "0             1  2017-06-01        75.20\n",
       "1             1  2017-06-02        62.25\n",
       "2             1  2017-06-03        36.53\n",
       "3             1  2017-06-04        55.00\n",
       "4             1  2017-06-05        57.08\n",
       "...         ...         ...          ...\n",
       "2537         10  2018-05-27         9.92\n",
       "2538         10  2018-05-28        21.26\n",
       "2539         10  2018-05-29        11.32\n",
       "2540         10  2018-05-30        33.15\n",
       "2541         10  2018-05-31        17.60\n",
       "\n",
       "[2542 rows x 3 columns]"
      ]
     },
     "execution_count": 13,
     "metadata": {},
     "output_type": "execute_result"
    }
   ],
   "source": [
    "# Modify cost column names\n",
    "cost = cost.rename(columns={\"dt\":\"ad_datetime\",\"costs\":\"ad_expenses\"})\n",
    "cost"
   ]
  },
  {
   "cell_type": "markdown",
   "metadata": {},
   "source": [
    "# Make reports and calculate metrics "
   ]
  },
  {
   "cell_type": "markdown",
   "metadata": {},
   "source": [
    "## Product "
   ]
  },
  {
   "cell_type": "markdown",
   "metadata": {},
   "source": [
    "###  How many people use it every day, week and month?"
   ]
  },
  {
   "cell_type": "code",
   "execution_count": 14,
   "metadata": {},
   "outputs": [
    {
     "name": "stderr",
     "output_type": "stream",
     "text": [
      "/opt/conda/lib/python3.7/site-packages/ipykernel_launcher.py:8: FutureWarning: Series.dt.weekofyear and Series.dt.week have been deprecated.  Please use Series.dt.isocalendar().week instead.\n",
      "  \n"
     ]
    },
    {
     "name": "stdout",
     "output_type": "stream",
     "text": [
      "907.99\n",
      "5825.29\n",
      "23228.42\n"
     ]
    }
   ],
   "source": [
    "# How many people use it every day, week and month?\n",
    "\n",
    "# Create product usage from visit logs table\n",
    "product_usage = visit_logs.copy()\n",
    "\n",
    "# Separate columsn for day, week, month values\n",
    "product_usage['session_date'] = product_usage['session_start'].dt.date\n",
    "product_usage['session_week'] = product_usage['session_start'].dt.week\n",
    "product_usage['session_month'] = product_usage['session_start'].dt.month\n",
    "product_usage['session_year'] = product_usage['session_start'].dt.year\n",
    "\n",
    "# Calculate DAU: number of daily active unique users\n",
    "dau_total = product_usage.groupby('session_date').agg({\"user_id\":\"nunique\"}).reset_index()\n",
    "dau_total.columns = ['session_date', 'n_users']\n",
    "dau_avg = dau_total['n_users'].mean()\n",
    "print(round(dau_avg, 2))\n",
    "\n",
    "# Calculate WAU: number of weekly active unique users\n",
    "wau_total = product_usage.groupby('session_week').agg({\"user_id\":\"nunique\"}).reset_index()\n",
    "wau_total.columns = ['session_week', 'n_users']\n",
    "wau_avg = wau_total['n_users'].mean()\n",
    "print(round(wau_avg, 2))\n",
    "\n",
    "# Calculate DAU: number of monthly active unique users\n",
    "mau_total = product_usage.groupby('session_month').agg({\"user_id\":\"nunique\"}).reset_index()\n",
    "mau_total.columns = ['session_month', 'n_users']\n",
    "mau_avg = mau_total['n_users'].mean()\n",
    "print(round(mau_avg,2))"
   ]
  },
  {
   "cell_type": "markdown",
   "metadata": {},
   "source": [
    "Daily Total Usage: 907.99 users\n",
    "Weekly Total Usage: 5825.29 users\n",
    "Monthly Total Usage: 23228.42 users\n",
    "\n",
    "It's possible to explore user activity to find out how many unique visits this product gets to give insight as to what extend the service is interesting. The metrics to describe the numbe of active users can be expressed in terms of daily total usage (DAU), weekly total usage (WAU) and monthly total usage (MAU). These vanity metrics can be calculated by counting the average number of unique users for each day, week and months.\n",
    "\n",
    "The number of daily active users of Yandex.Afisha is 908, the number of weekly active users is 5825 and the number of monthly active users is 23228."
   ]
  },
  {
   "cell_type": "code",
   "execution_count": 15,
   "metadata": {},
   "outputs": [],
   "source": [
    "import sys\n",
    "import warnings\n",
    "if not sys.warnoptions:\n",
    "       warnings.simplefilter(\"ignore\")"
   ]
  },
  {
   "cell_type": "code",
   "execution_count": 16,
   "metadata": {},
   "outputs": [
    {
     "data": {
      "image/png": "[encoded data removed]",
      "text/plain": [
       "<Figure size 576x432 with 1 Axes>"
      ]
     },
     "metadata": {
      "needs_background": "light"
     },
     "output_type": "display_data"
    },
    {
     "data": {
      "image/png": "[encoded data removed]",
      "text/plain": [
       "<Figure size 576x432 with 1 Axes>"
      ]
     },
     "metadata": {
      "needs_background": "light"
     },
     "output_type": "display_data"
    },
    {
     "data": {
      "image/png": "[encoded data removed]",
      "text/plain": [
       "<Figure size 576x432 with 1 Axes>"
      ]
     },
     "metadata": {
      "needs_background": "light"
     },
     "output_type": "display_data"
    }
   ],
   "source": [
    "# plot daily active users\n",
    "plt.figure(figsize=(8,6));\n",
    "plt.plot(dau_total['session_date'],dau_total['n_users'])\n",
    "plt.title('Daily Number of Active Users')\n",
    "plt.xlabel('Dates')\n",
    "plt.ylabel('# of Active Users')\n",
    "plt.show()\n",
    "\n",
    "# plot weekly active users\n",
    "plt.figure(figsize=(8,6));\n",
    "plt.plot(wau_total['session_week'],wau_total['n_users'])\n",
    "plt.title('Weekly Number of Active Users')\n",
    "plt.xlabel('Dates')\n",
    "plt.ylabel('# of Active Users')\n",
    "plt.show()\n",
    "\n",
    "# plot monthly active users\n",
    "plt.figure(figsize=(8,6));\n",
    "plt.plot(mau_total['session_month'],mau_total['n_users'])\n",
    "plt.title('Monthly Number of Active Users')\n",
    "plt.xlabel('Dates')\n",
    "plt.ylabel('# of Active Users')\n",
    "plt.show()"
   ]
  },
  {
   "cell_type": "markdown",
   "metadata": {},
   "source": [
    "###  How many sessions are there per day?"
   ]
  },
  {
   "cell_type": "code",
   "execution_count": 17,
   "metadata": {},
   "outputs": [
    {
     "name": "stdout",
     "output_type": "stream",
     "text": [
      "There are 987.36 sessions per day\n"
     ]
    },
    {
     "data": {
      "text/html": [
       "<div>\n",
       "<style scoped>\n",
       "    .dataframe tbody tr th:only-of-type {\n",
       "        vertical-align: middle;\n",
       "    }\n",
       "\n",
       "    .dataframe tbody tr th {\n",
       "        vertical-align: top;\n",
       "    }\n",
       "\n",
       "    .dataframe thead th {\n",
       "        text-align: right;\n",
       "    }\n",
       "</style>\n",
       "<table border=\"1\" class=\"dataframe\">\n",
       "  <thead>\n",
       "    <tr style=\"text-align: right;\">\n",
       "      <th></th>\n",
       "      <th>session_date</th>\n",
       "      <th>n_sessions</th>\n",
       "      <th>n_users</th>\n",
       "    </tr>\n",
       "  </thead>\n",
       "  <tbody>\n",
       "    <tr>\n",
       "      <th>0</th>\n",
       "      <td>2017-06-01</td>\n",
       "      <td>664</td>\n",
       "      <td>605</td>\n",
       "    </tr>\n",
       "    <tr>\n",
       "      <th>1</th>\n",
       "      <td>2017-06-02</td>\n",
       "      <td>658</td>\n",
       "      <td>608</td>\n",
       "    </tr>\n",
       "    <tr>\n",
       "      <th>2</th>\n",
       "      <td>2017-06-03</td>\n",
       "      <td>477</td>\n",
       "      <td>445</td>\n",
       "    </tr>\n",
       "    <tr>\n",
       "      <th>3</th>\n",
       "      <td>2017-06-04</td>\n",
       "      <td>510</td>\n",
       "      <td>476</td>\n",
       "    </tr>\n",
       "    <tr>\n",
       "      <th>4</th>\n",
       "      <td>2017-06-05</td>\n",
       "      <td>893</td>\n",
       "      <td>820</td>\n",
       "    </tr>\n",
       "    <tr>\n",
       "      <th>...</th>\n",
       "      <td>...</td>\n",
       "      <td>...</td>\n",
       "      <td>...</td>\n",
       "    </tr>\n",
       "    <tr>\n",
       "      <th>359</th>\n",
       "      <td>2018-05-27</td>\n",
       "      <td>672</td>\n",
       "      <td>620</td>\n",
       "    </tr>\n",
       "    <tr>\n",
       "      <th>360</th>\n",
       "      <td>2018-05-28</td>\n",
       "      <td>1156</td>\n",
       "      <td>1039</td>\n",
       "    </tr>\n",
       "    <tr>\n",
       "      <th>361</th>\n",
       "      <td>2018-05-29</td>\n",
       "      <td>1035</td>\n",
       "      <td>948</td>\n",
       "    </tr>\n",
       "    <tr>\n",
       "      <th>362</th>\n",
       "      <td>2018-05-30</td>\n",
       "      <td>1410</td>\n",
       "      <td>1289</td>\n",
       "    </tr>\n",
       "    <tr>\n",
       "      <th>363</th>\n",
       "      <td>2018-05-31</td>\n",
       "      <td>2256</td>\n",
       "      <td>1997</td>\n",
       "    </tr>\n",
       "  </tbody>\n",
       "</table>\n",
       "<p>364 rows × 3 columns</p>\n",
       "</div>"
      ],
      "text/plain": [
       "    session_date  n_sessions  n_users\n",
       "0     2017-06-01         664      605\n",
       "1     2017-06-02         658      608\n",
       "2     2017-06-03         477      445\n",
       "3     2017-06-04         510      476\n",
       "4     2017-06-05         893      820\n",
       "..           ...         ...      ...\n",
       "359   2018-05-27         672      620\n",
       "360   2018-05-28        1156     1039\n",
       "361   2018-05-29        1035      948\n",
       "362   2018-05-30        1410     1289\n",
       "363   2018-05-31        2256     1997\n",
       "\n",
       "[364 rows x 3 columns]"
      ]
     },
     "execution_count": 17,
     "metadata": {},
     "output_type": "execute_result"
    },
    {
     "data": {
      "image/png": "[encoded data removed]",
      "text/plain": [
       "<Figure size 576x432 with 1 Axes>"
      ]
     },
     "metadata": {
      "needs_background": "light"
     },
     "output_type": "display_data"
    }
   ],
   "source": [
    "# How many sessions are there per day? (One user might have more than one session.)\n",
    "\n",
    "# group the visit data by session date and then count the # of unqiue users and # of unique sessions\n",
    "sessions_per_day = product_usage.groupby('session_date').agg({'user_id':['count','nunique']}).reset_index()\n",
    "sessions_per_day.columns = ['session_date','n_sessions','n_users']\n",
    "sessions_per_day_amount = sessions_per_day['n_sessions'].mean()\n",
    "print('There are ' + str(round(sessions_per_day_amount, 2)) + \" sessions per day\")\n",
    "\n",
    "#  Plot sessions per day\n",
    "plt.figure(figsize=(8,6))\n",
    "plt.plot(pd.to_datetime(sessions_per_day['session_date']),sessions_per_day['n_sessions'])\n",
    "plt.title('Sessions per Day')\n",
    "plt.xlabel('Dates')\n",
    "plt.ylabel('number of Sessions')\n",
    "sessions_per_day"
   ]
  },
  {
   "cell_type": "code",
   "execution_count": 18,
   "metadata": {},
   "outputs": [
    {
     "name": "stdout",
     "output_type": "stream",
     "text": [
      "There are 1.08 sessions per day\n"
     ]
    },
    {
     "data": {
      "text/html": [
       "<div>\n",
       "<style scoped>\n",
       "    .dataframe tbody tr th:only-of-type {\n",
       "        vertical-align: middle;\n",
       "    }\n",
       "\n",
       "    .dataframe tbody tr th {\n",
       "        vertical-align: top;\n",
       "    }\n",
       "\n",
       "    .dataframe thead th {\n",
       "        text-align: right;\n",
       "    }\n",
       "</style>\n",
       "<table border=\"1\" class=\"dataframe\">\n",
       "  <thead>\n",
       "    <tr style=\"text-align: right;\">\n",
       "      <th></th>\n",
       "      <th>session_date</th>\n",
       "      <th>n_sessions</th>\n",
       "      <th>n_users</th>\n",
       "      <th>n_user_session_per_day</th>\n",
       "    </tr>\n",
       "  </thead>\n",
       "  <tbody>\n",
       "    <tr>\n",
       "      <th>0</th>\n",
       "      <td>2017-06-01</td>\n",
       "      <td>664</td>\n",
       "      <td>605</td>\n",
       "      <td>1.097521</td>\n",
       "    </tr>\n",
       "    <tr>\n",
       "      <th>1</th>\n",
       "      <td>2017-06-02</td>\n",
       "      <td>658</td>\n",
       "      <td>608</td>\n",
       "      <td>1.082237</td>\n",
       "    </tr>\n",
       "    <tr>\n",
       "      <th>2</th>\n",
       "      <td>2017-06-03</td>\n",
       "      <td>477</td>\n",
       "      <td>445</td>\n",
       "      <td>1.071910</td>\n",
       "    </tr>\n",
       "    <tr>\n",
       "      <th>3</th>\n",
       "      <td>2017-06-04</td>\n",
       "      <td>510</td>\n",
       "      <td>476</td>\n",
       "      <td>1.071429</td>\n",
       "    </tr>\n",
       "    <tr>\n",
       "      <th>4</th>\n",
       "      <td>2017-06-05</td>\n",
       "      <td>893</td>\n",
       "      <td>820</td>\n",
       "      <td>1.089024</td>\n",
       "    </tr>\n",
       "    <tr>\n",
       "      <th>...</th>\n",
       "      <td>...</td>\n",
       "      <td>...</td>\n",
       "      <td>...</td>\n",
       "      <td>...</td>\n",
       "    </tr>\n",
       "    <tr>\n",
       "      <th>359</th>\n",
       "      <td>2018-05-27</td>\n",
       "      <td>672</td>\n",
       "      <td>620</td>\n",
       "      <td>1.083871</td>\n",
       "    </tr>\n",
       "    <tr>\n",
       "      <th>360</th>\n",
       "      <td>2018-05-28</td>\n",
       "      <td>1156</td>\n",
       "      <td>1039</td>\n",
       "      <td>1.112608</td>\n",
       "    </tr>\n",
       "    <tr>\n",
       "      <th>361</th>\n",
       "      <td>2018-05-29</td>\n",
       "      <td>1035</td>\n",
       "      <td>948</td>\n",
       "      <td>1.091772</td>\n",
       "    </tr>\n",
       "    <tr>\n",
       "      <th>362</th>\n",
       "      <td>2018-05-30</td>\n",
       "      <td>1410</td>\n",
       "      <td>1289</td>\n",
       "      <td>1.093871</td>\n",
       "    </tr>\n",
       "    <tr>\n",
       "      <th>363</th>\n",
       "      <td>2018-05-31</td>\n",
       "      <td>2256</td>\n",
       "      <td>1997</td>\n",
       "      <td>1.129695</td>\n",
       "    </tr>\n",
       "  </tbody>\n",
       "</table>\n",
       "<p>364 rows × 4 columns</p>\n",
       "</div>"
      ],
      "text/plain": [
       "    session_date  n_sessions  n_users  n_user_session_per_day\n",
       "0     2017-06-01         664      605                1.097521\n",
       "1     2017-06-02         658      608                1.082237\n",
       "2     2017-06-03         477      445                1.071910\n",
       "3     2017-06-04         510      476                1.071429\n",
       "4     2017-06-05         893      820                1.089024\n",
       "..           ...         ...      ...                     ...\n",
       "359   2018-05-27         672      620                1.083871\n",
       "360   2018-05-28        1156     1039                1.112608\n",
       "361   2018-05-29        1035      948                1.091772\n",
       "362   2018-05-30        1410     1289                1.093871\n",
       "363   2018-05-31        2256     1997                1.129695\n",
       "\n",
       "[364 rows x 4 columns]"
      ]
     },
     "execution_count": 18,
     "metadata": {},
     "output_type": "execute_result"
    },
    {
     "data": {
      "image/png": "[encoded data removed]",
      "text/plain": [
       "<Figure size 576x432 with 1 Axes>"
      ]
     },
     "metadata": {
      "needs_background": "light"
     },
     "output_type": "display_data"
    }
   ],
   "source": [
    "sessions_per_day['n_user_session_per_day']= sessions_per_day['n_sessions'] / sessions_per_day['n_users']\n",
    "sessions_per_day_user_amount = sessions_per_day['n_user_session_per_day'].mean()\n",
    "print('There are ' + str(round(sessions_per_day_user_amount, 2)) + \" sessions per day\")\n",
    "plt.figure(figsize=(8,6))\n",
    "plt.plot(pd.to_datetime(sessions_per_day['session_date']),sessions_per_day['n_user_session_per_day'])\n",
    "plt.title('Sessions per Day')\n",
    "plt.xlabel('Dates')\n",
    "plt.ylabel('number of Sessions per user')\n",
    "sessions_per_day"
   ]
  },
  {
   "cell_type": "markdown",
   "metadata": {},
   "source": [
    "To calculate the average number of unique sessions there on any given day, the visit data can be grouped by the date of the session and count the number of unique users and the number of unique sessions.\n",
    "There is an average of 987.36 sessions per day for Yandex.Afisha."
   ]
  },
  {
   "cell_type": "markdown",
   "metadata": {},
   "source": [
    "###  What is the length of each session?"
   ]
  },
  {
   "cell_type": "code",
   "execution_count": 19,
   "metadata": {},
   "outputs": [
    {
     "name": "stdout",
     "output_type": "stream",
     "text": [
      "Average length per session: 300.0\n"
     ]
    },
    {
     "data": {
      "image/png": "[encoded data removed]",
      "text/plain": [
       "<Figure size 432x288 with 1 Axes>"
      ]
     },
     "metadata": {
      "needs_background": "light"
     },
     "output_type": "display_data"
    }
   ],
   "source": [
    "# What is the length of each session?\n",
    "\n",
    "# calculate the duration of a session(session_end - session_start)\n",
    "product_usage['session_duration_sec'] = (product_usage['session_end'] - product_usage['session_start']).dt.seconds\n",
    "\n",
    "# calculate the average duration\n",
    "average_length_per_session = product_usage['session_duration_sec'].median()\n",
    "print('Average length per session:', round(average_length_per_session, 2))\n",
    "\n",
    "plt.hist(product_usage['session_duration_sec'],range=[0,2000],bins=50)\n",
    "plt.title('Session Length')\n",
    "plt.xlabel('Length (secs)')\n",
    "plt.ylabel('number of Sessions')\n",
    "plt.show()"
   ]
  },
  {
   "cell_type": "markdown",
   "metadata": {},
   "source": [
    "To calculate the average length of each session, we can examine every row in the visit dataframe and find the difference between the datetime of the end of a session and the datetime of the start of a session.\n",
    "The average length of each session is 300 seconds (5 mins)."
   ]
  },
  {
   "cell_type": "markdown",
   "metadata": {},
   "source": [
    "###  How often do users come back?"
   ]
  },
  {
   "cell_type": "code",
   "execution_count": 20,
   "metadata": {},
   "outputs": [
    {
     "name": "stdout",
     "output_type": "stream",
     "text": [
      "15.59% of users on average come back weekly\n",
      "3.91% of users on average come back monthly\n"
     ]
    },
    {
     "data": {
      "image/png": "[encoded data removed]",
      "text/plain": [
       "<Figure size 576x432 with 1 Axes>"
      ]
     },
     "metadata": {
      "needs_background": "light"
     },
     "output_type": "display_data"
    },
    {
     "data": {
      "image/png": "[encoded data removed]",
      "text/plain": [
       "<Figure size 576x432 with 1 Axes>"
      ]
     },
     "metadata": {
      "needs_background": "light"
     },
     "output_type": "display_data"
    }
   ],
   "source": [
    "# How often do users come back?\n",
    "\n",
    "# calculate sticky factor metrics\n",
    "sticky_weekly_avg = (dau_avg / wau_avg) * 100\n",
    "print(str(round(sticky_weekly_avg, 2)) + \"% of users on average come back weekly\")\n",
    "\n",
    "sticky_monthly_avg = (dau_avg / mau_avg) * 100\n",
    "print(str(round(sticky_monthly_avg, 2)) + \"% of users on average come back monthly\")\n",
    "\n",
    "# graph sticky factor metrics \n",
    "wau_total['sticky_weekly'] = (dau_avg / wau_total['n_users']) * 100\n",
    "plt.figure(figsize=(8,6))\n",
    "plt.plot(wau_total['session_week'],wau_total['sticky_weekly'])\n",
    "plt.title('% of users that come back weekly')\n",
    "plt.xlabel('Weeks')\n",
    "plt.ylabel('% of returning users')\n",
    "plt.show()\n",
    "\n",
    "mau_total['sticky_monthly'] = (dau_avg / mau_total['n_users']) * 100\n",
    "plt.figure(figsize=(8,6))\n",
    "plt.plot(mau_total['session_month'],mau_total['sticky_monthly'])\n",
    "plt.title('% of users that come back monthly')\n",
    "plt.xlabel('Months')\n",
    "plt.ylabel('% of returning users')\n",
    "plt.show()"
   ]
  },
  {
   "cell_type": "code",
   "execution_count": 21,
   "metadata": {},
   "outputs": [
    {
     "name": "stdout",
     "output_type": "stream",
     "text": [
      "  device_type         session_end  source_id       session_start  \\\n",
      "0       touch 2017-12-20 17:38:00          4 2017-12-20 17:20:00   \n",
      "1     desktop 2018-02-19 17:21:00          2 2018-02-19 16:53:00   \n",
      "2       touch 2017-07-01 01:54:00          5 2017-07-01 01:54:00   \n",
      "3     desktop 2018-05-20 11:23:00          9 2018-05-20 10:59:00   \n",
      "4     desktop 2017-12-27 14:06:00          3 2017-12-27 14:06:00   \n",
      "\n",
      "                user_id session_date  session_week  session_month  \\\n",
      "0  16879256277535980062   2017-12-20            51             12   \n",
      "1    104060357244891740   2018-02-19             8              2   \n",
      "2   7459035603376831527   2017-07-01            26              7   \n",
      "3  16174680259334210214   2018-05-20            20              5   \n",
      "4   9969694820036681168   2017-12-27            52             12   \n",
      "\n",
      "   session_year  session_duration_sec first_activity_date  \n",
      "0          2017                  1080 2017-12-20 17:20:00  \n",
      "1          2018                  1680 2018-02-19 16:53:00  \n",
      "2          2017                     0 2017-07-01 01:54:00  \n",
      "3          2018                  1440 2018-03-09 20:05:00  \n",
      "4          2017                     0 2017-12-27 14:06:00  \n",
      "0.6534407110142624\n"
     ]
    },
    {
     "data": {
      "image/png": "[encoded data removed]",
      "text/plain": [
       "<Figure size 1080x720 with 2 Axes>"
      ]
     },
     "metadata": {},
     "output_type": "display_data"
    }
   ],
   "source": [
    "product_usage['session_start'] = pd.to_datetime(product_usage['session_start'])\n",
    "first_activity_date = product_usage.groupby(['user_id'])['session_start'].min()\n",
    "first_activity_date.name = 'first_activity_date'\n",
    "user_activity = product_usage.join(first_activity_date,on='user_id')\n",
    "print(user_activity.head())\n",
    "\n",
    "user_activity['first_activity_month'] = user_activity['session_start'].astype('datetime64[M]').dt.date\n",
    "user_activity['activity_month'] = (pd.to_datetime(user_activity['session_start'],\n",
    "                                                unit='d')\n",
    "                                  - pd.to_timedelta(user_activity['session_start'].dt.month,\n",
    "                                                    unit='d')).dt.date\n",
    "\n",
    "user_activity['cohort_lifetime'] = user_activity['activity_month'] - user_activity['first_activity_month']\n",
    "user_activity['cohort_lifetime'] = user_activity['cohort_lifetime'] / np.timedelta64(1,'W')\n",
    "user_activity['cohort_lifetime'] = user_activity['cohort_lifetime'].astype(int)\n",
    "cohorts = user_activity.groupby(['first_activity_month', 'cohort_lifetime']).agg({'user_id': 'nunique'}).reset_index()\n",
    "\n",
    "initial_users_count = cohorts[cohorts['cohort_lifetime'] == 0][\n",
    "    ['first_activity_month', 'user_id']\n",
    "]\n",
    "#print(initial_users_count) \n",
    "\n",
    "initial_users_count = initial_users_count.rename(\n",
    "    columns={'user_id': 'cohort_users'}\n",
    ") \n",
    "cohorts = cohorts.merge(initial_users_count, on='first_activity_month') \n",
    "cohorts['retention'] = cohorts['user_id'] / cohorts['cohort_users'] \n",
    "\n",
    "print(cohorts['retention'].mean())\n",
    "\n",
    "retention_pivot = cohorts.pivot_table(\n",
    "    index='first_activity_month',\n",
    "    columns='cohort_lifetime',\n",
    "    values='retention',\n",
    "    aggfunc='sum',\n",
    ")\n",
    "\n",
    "#retention_5 = retention_pivot[[0,1,2,3,4,5]]\n",
    "\n",
    "import seaborn as sns\n",
    "from matplotlib import pyplot as plt\n",
    "\n",
    "sns.set(style='white')\n",
    "plt.figure(figsize=(15, 10))\n",
    "plt.title('Cohorts: User Retention')\n",
    "sns.heatmap(\n",
    "    retention_pivot, annot=True, fmt='.3%', linewidths=1, linecolor='gray'\n",
    ")\n",
    "plt.show()"
   ]
  },
  {
   "cell_type": "markdown",
   "metadata": {},
   "source": [
    "To calculate how often users come back, we can calculate the stick factor metrics in terms of weeks and months. This is found by dividing the number of daily active users by the number of weekly active users (to find the number of times users come back weekly) and dividing the number of daily active users by the number of monthly active users (to find the number of times users come back monehtly).\n",
    "\n",
    "Almost 16% of users come back weekly and 4% of users come back monthly."
   ]
  },
  {
   "cell_type": "markdown",
   "metadata": {},
   "source": [
    "##  Sales "
   ]
  },
  {
   "cell_type": "markdown",
   "metadata": {},
   "source": [
    "###  When do people start buying?"
   ]
  },
  {
   "cell_type": "code",
   "execution_count": 22,
   "metadata": {},
   "outputs": [
    {
     "name": "stdout",
     "output_type": "stream",
     "text": [
      "                    user_id  first_session_date  first_session_month  \\\n",
      "0           313578113262317 2017-09-18 22:49:00                    9   \n",
      "1          1575281904278712 2017-06-03 10:13:00                    6   \n",
      "2          2429014661409475 2017-10-11 17:14:00                   10   \n",
      "3          2464366381792757 2018-01-27 20:10:00                    1   \n",
      "4          2551852515556206 2017-11-24 10:14:00                   11   \n",
      "...                     ...                 ...                  ...   \n",
      "36518  18445147675727495770 2017-08-20 13:30:00                    8   \n",
      "36519  18445407535914413204 2017-09-22 23:48:00                    9   \n",
      "36520  18445601152732270159 2017-08-07 11:51:00                    8   \n",
      "36521  18446156210226471712 2017-11-07 10:01:00                   11   \n",
      "36522  18446167067214817906 2017-10-17 10:05:00                   10   \n",
      "\n",
      "         first_order_date  first_order_month  turnover_time_days  \n",
      "0     2018-01-03 21:51:00                  1                 106  \n",
      "1     2017-06-03 10:13:00                  6                   0  \n",
      "2     2017-10-11 18:33:00                 10                   0  \n",
      "3     2018-01-28 15:54:00                  1                   0  \n",
      "4     2017-11-24 10:14:00                 11                   0  \n",
      "...                   ...                ...                 ...  \n",
      "36518 2017-11-24 09:03:00                 11                  95  \n",
      "36519 2017-09-22 23:55:00                  9                   0  \n",
      "36520 2018-03-26 22:54:00                  3                 231  \n",
      "36521 2018-02-18 19:34:00                  2                 103  \n",
      "36522 2017-10-17 10:16:00                 10                   0  \n",
      "\n",
      "[36523 rows x 6 columns]\n",
      "People start buying 16.73 days after first registering\n"
     ]
    }
   ],
   "source": [
    "# When do people start buying?\n",
    "\n",
    "# for each user, find date of first order\n",
    "first_order_dates = order_logs.groupby('user_id').agg({'order_datetime':'min'}).reset_index()\n",
    "first_order_dates.columns= ['user_id','first_order_date']\n",
    "first_order_dates['first_order_month'] = first_order_dates['first_order_date'].dt.month\n",
    "\n",
    "# for each user, find date of first session\n",
    "first_session_dates = visit_logs.groupby('user_id').agg({'session_start':'min'}).reset_index()\n",
    "first_session_dates.columns= ['user_id','first_session_date']\n",
    "first_session_dates['first_session_month'] = first_session_dates['first_session_date'].dt.month\n",
    "\n",
    "# merge tables on user_id\n",
    "turnover = pd.merge(first_session_dates, first_order_dates, on='user_id')\n",
    "\n",
    "# calculate time between first session and first order\n",
    "turnover['turnover_time_days'] = (turnover['first_order_date'] - turnover['first_session_date']).dt.days\n",
    "print(turnover)\n",
    "\n",
    "avg_turnover_time = turnover['turnover_time_days'].mean()\n",
    "print('People start buying ' + str(round(avg_turnover_time,2)) +\" days after first registering\")"
   ]
  },
  {
   "cell_type": "code",
   "execution_count": 23,
   "metadata": {},
   "outputs": [],
   "source": [
    "bins = [0, 5, 10, 20, 30, 90, 180, 400]\n",
    "labels = ['0-5d','5-10d','10-20d','20-30d','30-90d','90-180d','>180d']\n",
    "turnover['turnover_cohort'] = pd.cut(x=turnover['turnover_time_days'], bins=bins, labels=labels)"
   ]
  },
  {
   "cell_type": "markdown",
   "metadata": {},
   "source": [
    "To discover when people start buying, we can find the date of the first visit/session and first order for each user. By subtracting the date of the first visit from the date of the first order, we can find how long after the first visit the user made an order and purchased the product. We can find the average turnover time with the mean.\n",
    "\n",
    "The average turnover time for users from the first visit to the first order for Yandex.Afisha is about 16 days."
   ]
  },
  {
   "cell_type": "markdown",
   "metadata": {},
   "source": [
    "###  how many users in each cohort?"
   ]
  },
  {
   "cell_type": "code",
   "execution_count": 24,
   "metadata": {},
   "outputs": [
    {
     "data": {
      "text/html": [
       "<div>\n",
       "<style scoped>\n",
       "    .dataframe tbody tr th:only-of-type {\n",
       "        vertical-align: middle;\n",
       "    }\n",
       "\n",
       "    .dataframe tbody tr th {\n",
       "        vertical-align: top;\n",
       "    }\n",
       "\n",
       "    .dataframe thead th {\n",
       "        text-align: right;\n",
       "    }\n",
       "</style>\n",
       "<table border=\"1\" class=\"dataframe\">\n",
       "  <thead>\n",
       "    <tr style=\"text-align: right;\">\n",
       "      <th></th>\n",
       "      <th>turnover_cohort</th>\n",
       "      <th>n_users</th>\n",
       "      <th>users %</th>\n",
       "    </tr>\n",
       "  </thead>\n",
       "  <tbody>\n",
       "    <tr>\n",
       "      <th>0</th>\n",
       "      <td>0-5d</td>\n",
       "      <td>2602</td>\n",
       "      <td>25.610236</td>\n",
       "    </tr>\n",
       "    <tr>\n",
       "      <th>1</th>\n",
       "      <td>5-10d</td>\n",
       "      <td>947</td>\n",
       "      <td>9.320866</td>\n",
       "    </tr>\n",
       "    <tr>\n",
       "      <th>2</th>\n",
       "      <td>10-20d</td>\n",
       "      <td>1039</td>\n",
       "      <td>10.226378</td>\n",
       "    </tr>\n",
       "    <tr>\n",
       "      <th>3</th>\n",
       "      <td>20-30d</td>\n",
       "      <td>670</td>\n",
       "      <td>6.594488</td>\n",
       "    </tr>\n",
       "    <tr>\n",
       "      <th>4</th>\n",
       "      <td>30-90d</td>\n",
       "      <td>2274</td>\n",
       "      <td>22.381890</td>\n",
       "    </tr>\n",
       "    <tr>\n",
       "      <th>5</th>\n",
       "      <td>90-180d</td>\n",
       "      <td>1748</td>\n",
       "      <td>17.204724</td>\n",
       "    </tr>\n",
       "    <tr>\n",
       "      <th>6</th>\n",
       "      <td>&gt;180d</td>\n",
       "      <td>880</td>\n",
       "      <td>8.661417</td>\n",
       "    </tr>\n",
       "  </tbody>\n",
       "</table>\n",
       "</div>"
      ],
      "text/plain": [
       "  turnover_cohort  n_users    users %\n",
       "0            0-5d     2602  25.610236\n",
       "1           5-10d      947   9.320866\n",
       "2          10-20d     1039  10.226378\n",
       "3          20-30d      670   6.594488\n",
       "4          30-90d     2274  22.381890\n",
       "5         90-180d     1748  17.204724\n",
       "6           >180d      880   8.661417"
      ]
     },
     "metadata": {},
     "output_type": "display_data"
    }
   ],
   "source": [
    "# how many users in each cohort\n",
    "users_per_cohort = turnover.groupby('turnover_cohort')['user_id'].nunique().reset_index()\n",
    "users_per_cohort.columns = ['turnover_cohort','n_users']\n",
    "\n",
    "# calculate % of users in each cohort\n",
    "total_users = users_per_cohort['n_users'].sum()\n",
    "users_per_cohort['users %'] = (users_per_cohort['n_users'] / total_users) * 100\n",
    "\n",
    "display(users_per_cohort)"
   ]
  },
  {
   "cell_type": "markdown",
   "metadata": {},
   "source": [
    "Most users start buying between 0 to 5 days after the first session at almost 80% of users but thereafter, the largest turnover cohort falls in the 3-6 month window at 6% of users."
   ]
  },
  {
   "cell_type": "markdown",
   "metadata": {},
   "source": [
    "###  How many orders do they make during a given period of time?"
   ]
  },
  {
   "cell_type": "code",
   "execution_count": 25,
   "metadata": {},
   "outputs": [
    {
     "name": "stdout",
     "output_type": "stream",
     "text": [
      "The average number of orders made in any given month is 1.22\n"
     ]
    }
   ],
   "source": [
    "# How many orders do they make during a given period of time? \n",
    "\n",
    "# extract order month for each order\n",
    "order_logs['order_month'] = order_logs['order_datetime'].astype('datetime64[M]').dt.month\n",
    "\n",
    "# group by order month and find # of unique users placing orders each month and find # of orders made each month\n",
    "unique_orders = order_logs.groupby('order_month').agg({'user_id':'nunique','order_datetime':'count'}).reset_index()\n",
    "unique_orders.columns = ['order_month','n_unique_users','n_orders']\n",
    "\n",
    "# create col with average monthly orders per month\n",
    "unique_orders['average_monthly_orders'] = unique_orders['n_orders'] / unique_orders['n_unique_users']\n",
    "\n",
    "# calculate average monthly purchases\n",
    "avg_monthly_purchases = round(unique_orders['average_monthly_orders'].mean(), 2)\n",
    "\n",
    "print('The average number of orders made in any given month is ' + str(avg_monthly_purchases))"
   ]
  },
  {
   "cell_type": "markdown",
   "metadata": {},
   "source": [
    "To find how many orders do users make during a period of time, we can start by defining a period of time as a single month. Now the question becomes how many orders do users make during a months time? We can extract the month of each order from the datetime of the order, group the orders by the months, count the # of unique users ordering for each month, count the number of orders made each month and then find the average number of monthly orders by diving the number of orders with the number of unique users.\n",
    "\n",
    "The average number of orders made during a month for Yandex.Afisha is 1.22 orders."
   ]
  },
  {
   "cell_type": "markdown",
   "metadata": {},
   "source": [
    "###  What is the average purchase size?"
   ]
  },
  {
   "cell_type": "code",
   "execution_count": 26,
   "metadata": {},
   "outputs": [
    {
     "name": "stdout",
     "output_type": "stream",
     "text": [
      "The average purchase size is 5.0 dollars per purchase\n"
     ]
    }
   ],
   "source": [
    "# What is the average purchase size?\n",
    "\n",
    "avg_purchase_size = round(order_logs['revenue'].mean(), 2)\n",
    "print(\"The average purchase size is \" + str(avg_purchase_size) + \" dollars per purchase\")\n",
    "\n"
   ]
  },
  {
   "cell_type": "markdown",
   "metadata": {},
   "source": [
    "To find the average purchase size for each order, we can calculate the average of the revenue made from each order.\n",
    "\n",
    "The average purchase size for Yandex.Afisha is about $5 per purchase."
   ]
  },
  {
   "cell_type": "markdown",
   "metadata": {},
   "source": [
    "### LTV "
   ]
  },
  {
   "cell_type": "code",
   "execution_count": 27,
   "metadata": {},
   "outputs": [
    {
     "data": {
      "image/png": "[encoded data removed]",
      "text/plain": [
       "<Figure size 1080x360 with 2 Axes>"
      ]
     },
     "metadata": {},
     "output_type": "display_data"
    }
   ],
   "source": [
    "# How much money do they bring? (LTV)\n",
    "# LTV (lifetime value) is the total amount of money a customer brings to the company on average by making purchases\n",
    "\n",
    "# # copy dataframes\n",
    "orders = order_logs.copy()\n",
    "visit = visit_logs.copy()\n",
    "visit = visit[['session_start','user_id']]\n",
    "\n",
    "# extract month and date for each datetime row \n",
    "orders['order_month'] = orders['order_datetime'].astype('datetime64[M]')\n",
    "orders['order_date'] = orders['order_datetime'].dt.date\n",
    "\n",
    "# Calculate when first order for each customer have happened\n",
    "\n",
    "visits_and_orders = orders.join(visit\n",
    "                      .sort_values(by='session_start')\n",
    "                      .groupby(['user_id'])\n",
    "                      .agg({'session_start': 'min'}),\n",
    "                      on='user_id', how='inner')\n",
    "\n",
    "visits_and_orders['first_session_month'] = visits_and_orders['session_start'].astype('datetime64[M]')\n",
    "\n",
    "# Create cohorts based on first purchase date and revenue\n",
    "\n",
    "cohort_sizes = visits_and_orders.groupby('first_session_month').agg({'user_id': 'nunique'}).reset_index()\n",
    "cohort_sizes.rename(columns={'user_id': 'n_buyers'}, inplace=True)\n",
    "cohorts = visits_and_orders.groupby(['first_session_month', 'order_month']).agg({'revenue': ['sum', 'count']}).reset_index()\n",
    "\n",
    "# Calculate cohort age\n",
    "\n",
    "cohorts['age_month'] = (cohorts['order_month'] - cohorts['first_session_month']) / np.timedelta64(1, 'M')\n",
    "cohorts['age_month'] = cohorts['age_month'].round().astype('int')\n",
    "cohorts.columns = ['first_session_month', 'order_month', 'revenue', 'n_orders', 'age_month']\n",
    "\n",
    "# Merge our cohort tables to the final cohort report\n",
    "report = pd.merge(cohort_sizes, cohorts, on='first_session_month')\n",
    "report['ltv'] = report['revenue'] / report['n_buyers']\n",
    "\n",
    "# Create LTV table\n",
    "ltv_cohort = report.pivot_table(\n",
    "    index = 'first_session_month',\n",
    "    columns = 'age_month',\n",
    "    values = 'ltv',\n",
    "    aggfunc = 'sum').cumsum(axis=1)\n",
    "\n",
    "plt.figure(figsize=(15, 5))\n",
    "ax = sns.heatmap(ltv_cohort, annot=True, fmt='.2f')\n",
    "ax.set_yticklabels(ltv_cohort.index.strftime('%m-%Y'))\n",
    "plt.show()"
   ]
  },
  {
   "cell_type": "markdown",
   "metadata": {},
   "source": [
    "LTV (lifetime value) is the total amount of money a customer brings to the company on average by making purchases. To calcuate this metric, I extracted the first order month and all months afterwards and grouped this data per user while adding up the revenue. I found the gross profit for each cohort and then calculated LTV from that. The heatmap indicates that the most revenue is always from the first order month and afterwards, the trend tends to decrease so the customer does not bring the company much money after it's initial purchase.\n",
    "\n",
    "For the most part, the lifetime value per customer increases over time."
   ]
  },
  {
   "cell_type": "markdown",
   "metadata": {},
   "source": [
    "## Marketing "
   ]
  },
  {
   "cell_type": "markdown",
   "metadata": {},
   "source": [
    "###  How much money was spent? "
   ]
  },
  {
   "cell_type": "code",
   "execution_count": 28,
   "metadata": {},
   "outputs": [
    {
     "name": "stdout",
     "output_type": "stream",
     "text": [
      "The overall amount spent on marketing was $329131.62\n"
     ]
    }
   ],
   "source": [
    "# How much money was spent? \n",
    "\n",
    "# Overall\n",
    "cost_overall = cost['ad_expenses'].sum()\n",
    "print('The overall amount spent on marketing was $' + str(cost_overall))"
   ]
  },
  {
   "cell_type": "markdown",
   "metadata": {},
   "source": [
    "### How much money was spent? Overall/per source/over time "
   ]
  },
  {
   "cell_type": "code",
   "execution_count": 29,
   "metadata": {},
   "outputs": [
    {
     "name": "stdout",
     "output_type": "stream",
     "text": [
      "   source_id  total_ad_expenses\n",
      "2          3          141321.63\n",
      "3          4           61073.60\n",
      "4          5           51757.10\n",
      "1          2           42806.04\n",
      "0          1           20833.27\n",
      "6         10            5822.49\n",
      "5          9            5517.49\n"
     ]
    },
    {
     "data": {
      "image/png": "[encoded data removed]",
      "text/plain": [
       "<Figure size 576x432 with 1 Axes>"
      ]
     },
     "metadata": {},
     "output_type": "display_data"
    }
   ],
   "source": [
    "# per source\n",
    "cost_per_source = cost.groupby('source_id').agg({'ad_expenses':'sum'}).reset_index()\n",
    "cost_per_source.columns = ['source_id','total_ad_expenses']\n",
    "print(cost_per_source.sort_values('total_ad_expenses',ascending=False))\n",
    "plt.figure(figsize=(8,6))\n",
    "plt.bar(cost_per_source['source_id'],cost_per_source['total_ad_expenses'])\n",
    "plt.title('Ad Costs Per Source')\n",
    "plt.xlabel('Source')\n",
    "plt.ylabel('Amount Spent ($)')\n",
    "plt.show()"
   ]
  },
  {
   "cell_type": "markdown",
   "metadata": {},
   "source": [
    "Total cost per source is shown above in the graph. source id 3 has most of the spending."
   ]
  },
  {
   "cell_type": "code",
   "execution_count": 30,
   "metadata": {},
   "outputs": [
    {
     "name": "stdout",
     "output_type": "stream",
     "text": [
      "    ad_month  ad_expenses\n",
      "11        12     38315.35\n",
      "10        11     37907.88\n",
      "9         10     36322.88\n",
      "0          1     33518.52\n",
      "1          2     32723.03\n",
      "2          3     30415.27\n",
      "8          9     24368.91\n",
      "3          4     22289.38\n",
      "4          5     22224.27\n",
      "6          7     18240.59\n",
      "5          6     18015.00\n",
      "7          8     14790.54\n"
     ]
    },
    {
     "data": {
      "image/png": "[encoded data removed]",
      "text/plain": [
       "<Figure size 576x432 with 1 Axes>"
      ]
     },
     "metadata": {},
     "output_type": "display_data"
    }
   ],
   "source": [
    "# Over time\n",
    "cost_over_time = cost.copy()\n",
    "cost_over_time['ad_month'] = cost['ad_datetime'].astype('datetime64[M]').dt.month\n",
    "cost_over_time = cost_over_time.groupby('ad_month').agg({'ad_expenses':'sum'}).reset_index()\n",
    "cost_over_time.columns = ['ad_month','ad_expenses']\n",
    "print(cost_over_time.sort_values('ad_expenses',ascending=False))\n",
    "plt.figure(figsize=(8,6))\n",
    "plt.bar(cost_over_time['ad_month'],cost_over_time['ad_expenses'])\n",
    "plt.title('Ad Costs Over Time')\n",
    "plt.xlabel('Months')\n",
    "plt.ylabel('Amount Spent ($)')\n",
    "plt.show()"
   ]
  },
  {
   "cell_type": "markdown",
   "metadata": {},
   "source": [
    "In the december yandex has payed more money on ads which was around $38315."
   ]
  },
  {
   "cell_type": "markdown",
   "metadata": {},
   "source": [
    "###  How much did customer acquisition from each of the sources cost?"
   ]
  },
  {
   "cell_type": "code",
   "execution_count": 31,
   "metadata": {},
   "outputs": [
    {
     "data": {
      "image/png": "[encoded data removed]",
      "text/plain": [
       "<Figure size 936x648 with 2 Axes>"
      ]
     },
     "metadata": {},
     "output_type": "display_data"
    }
   ],
   "source": [
    "# How much did customer acquisition from each of the sources cost?\n",
    "\n",
    "# CAC\n",
    "# calculate ad expenses per month\n",
    "monthly_ad_cost = cost.copy()\n",
    "monthly_ad_cost['ad_month'] = monthly_ad_cost['ad_datetime'].dt.month\n",
    "monthly_ad_cost = monthly_ad_cost[['ad_month','ad_expenses']]\n",
    "monthly_ad_cost = monthly_ad_cost.groupby('ad_month')['ad_expenses'].sum().reset_index()\n",
    "\n",
    "# incorpordate data on costs\n",
    "report['order_month'] = report['order_month'].dt.month\n",
    "\n",
    "report = pd.merge(report, monthly_ad_cost, left_on='order_month', right_on='ad_month')\n",
    "\n",
    "# calculate cac\n",
    "report['cac'] = report['ad_expenses'] / report['n_buyers']\n",
    "\n",
    "# starting at first order month and continuing through order months,what is cac per cohort\n",
    "result = report.pivot_table(index='order_month',columns='ad_month',values='cac',aggfunc='mean').round()\n",
    "result.fillna('')\n",
    "\n",
    "plt.figure(figsize=(13,9))\n",
    "plt.title('CAC per Cohort')\n",
    "sns.heatmap(result, annot=True, fmt='.1f', linewidths=1, linecolor='green')\n",
    "plt.show()"
   ]
  },
  {
   "cell_type": "markdown",
   "metadata": {},
   "source": [
    "CAC (customer acquisition cost) is the cost of attracting a customer - how much was spent in marketing efforts to acquire a single customer. To calculate this, we can compare the amount spent on ads for the same month that the customer made a purchase by dividing expenses spent on ads by the number of buyers for each month."
   ]
  },
  {
   "cell_type": "markdown",
   "metadata": {},
   "source": [
    "###  How worthwhile where the investments?"
   ]
  },
  {
   "cell_type": "code",
   "execution_count": 32,
   "metadata": {},
   "outputs": [
    {
     "data": {
      "image/png": "[encoded data removed]",
      "text/plain": [
       "<Figure size 936x648 with 2 Axes>"
      ]
     },
     "metadata": {},
     "output_type": "display_data"
    }
   ],
   "source": [
    "# How worthwhile where the investments? (ROI)\n",
    "\n",
    "# calculate return on marketing investment \n",
    "report['romi'] = report['ltv'] / report['cac']\n",
    "\n",
    "output = report.pivot_table(index='order_month', columns='ad_month',values='romi',aggfunc='mean')\n",
    "output = output.cumsum(axis=1).round(2)\n",
    "#print(output)\n",
    "\n",
    "plt.figure(figsize=(13,9))\n",
    "plt.title('ROI per Cohort')\n",
    "sns.heatmap(output, annot=True, fmt='.2f', linewidths=1, linecolor='blue')\n",
    "plt.show()"
   ]
  },
  {
   "cell_type": "markdown",
   "metadata": {},
   "source": [
    "The July cohort paid off in the month (ROMI = 0.34). (we start counting at 0.)\n",
    "The June and August cohort also paid off.\n",
    "In general, by the 6th or 12th month, every cohort had either paid off or gotten close."
   ]
  },
  {
   "cell_type": "markdown",
   "metadata": {},
   "source": [
    "## Conclusion: advise marketing experts how much money to invest and where. "
   ]
  },
  {
   "cell_type": "markdown",
   "metadata": {},
   "source": [
    "What sources/platforms would you recommend? \n",
    "Source - Source Id 3 to 5\n",
    "Back up your choice: what metrics did you focus on? \n",
    "Most users start buying between 0 to 5 days after the first session at almost 80% of users but thereafter, the largest turnover cohort falls in the 3-6 month window at 6% of users.\n",
    "Why?\n",
    "The July cohort paid off in the month (ROMI = 0.34). (we start counting at 0.) The June and August cohort also paid off. In general, by the 6th or 12th month, every cohort had either paid off or gotten close.\n",
    "What conclusions did you draw after finding the metric values?\n",
    "Users who ordered for product during the 0th week were more likely to use the app again. Maybe it's because they faced fewer difficulties afterward. It's worth considering how to encourage users to ask for help during the 0th lifetime week.\n",
    "The thing is that the company began to grow faster in June. Expenses increased, and so did the number of new customers. But it takes six months to pay off, so profits haven't caught up to expenses yet. The business seems healthy.\n",
    "Company need to work on more ad campaigns and advertisment in the first quarter of the year."
   ]
  }
 ],
 "metadata": {
  "ExecuteTimeLog": [
   {
    "duration": 344,
    "start_time": "2021-06-09T08:56:19.241Z"
   },
   {
    "duration": 1448,
    "start_time": "2021-06-09T08:56:24.327Z"
   },
   {
    "duration": 948,
    "start_time": "2021-06-09T08:56:25.777Z"
   },
   {
    "duration": 11,
    "start_time": "2021-06-09T08:56:26.728Z"
   },
   {
    "duration": 144,
    "start_time": "2021-06-09T08:56:26.741Z"
   },
   {
    "duration": 45,
    "start_time": "2021-06-09T08:56:26.887Z"
   },
   {
    "duration": 102,
    "start_time": "2021-06-09T08:56:26.935Z"
   },
   {
    "duration": 8,
    "start_time": "2021-06-09T08:56:27.039Z"
   },
   {
    "duration": 18,
    "start_time": "2021-06-09T08:56:27.052Z"
   },
   {
    "duration": 58,
    "start_time": "2021-06-09T08:56:27.074Z"
   },
   {
    "duration": 67,
    "start_time": "2021-06-09T08:56:27.135Z"
   },
   {
    "duration": 9,
    "start_time": "2021-06-09T08:56:27.205Z"
   },
   {
    "duration": 12,
    "start_time": "2021-06-09T08:56:27.217Z"
   },
   {
    "duration": 16,
    "start_time": "2021-06-09T08:56:27.232Z"
   },
   {
    "duration": 688,
    "start_time": "2021-06-09T08:56:27.251Z"
   },
   {
    "duration": 4,
    "start_time": "2021-06-09T08:56:27.941Z"
   },
   {
    "duration": 986,
    "start_time": "2021-06-09T08:56:27.947Z"
   },
   {
    "duration": 489,
    "start_time": "2021-06-09T08:56:28.935Z"
   },
   {
    "duration": 347,
    "start_time": "2021-06-09T08:56:29.426Z"
   },
   {
    "duration": 443,
    "start_time": "2021-06-09T08:56:29.775Z"
   },
   {
    "duration": 715,
    "start_time": "2021-06-09T08:56:30.220Z"
   },
   {
    "duration": 10988,
    "start_time": "2021-06-09T08:56:30.937Z"
   },
   {
    "duration": 273,
    "start_time": "2021-06-09T08:56:41.927Z"
   },
   {
    "duration": 21,
    "start_time": "2021-06-09T08:56:42.204Z"
   },
   {
    "duration": 20,
    "start_time": "2021-06-09T08:56:42.227Z"
   },
   {
    "duration": 32,
    "start_time": "2021-06-09T08:56:42.249Z"
   },
   {
    "duration": 5,
    "start_time": "2021-06-09T08:56:42.283Z"
   },
   {
    "duration": 1533,
    "start_time": "2021-06-09T08:56:42.291Z"
   },
   {
    "duration": 6,
    "start_time": "2021-06-09T08:56:43.826Z"
   },
   {
    "duration": 477,
    "start_time": "2021-06-09T08:56:43.834Z"
   },
   {
    "duration": 515,
    "start_time": "2021-06-09T08:56:44.314Z"
   },
   {
    "duration": 787,
    "start_time": "2021-06-09T08:56:44.831Z"
   },
   {
    "duration": 749,
    "start_time": "2021-06-09T08:56:45.625Z"
   },
   {
    "duration": 10561,
    "start_time": "2021-06-09T08:56:50.087Z"
   },
   {
    "duration": 10928,
    "start_time": "2021-06-09T08:57:10.731Z"
   },
   {
    "duration": 10250,
    "start_time": "2021-06-09T08:58:05.022Z"
   },
   {
    "duration": 11076,
    "start_time": "2021-06-09T08:58:34.078Z"
   },
   {
    "duration": 1535,
    "start_time": "2021-06-10T19:49:37.282Z"
   },
   {
    "duration": 1308,
    "start_time": "2021-06-10T19:49:38.820Z"
   },
   {
    "duration": 11,
    "start_time": "2021-06-10T19:49:40.131Z"
   },
   {
    "duration": 180,
    "start_time": "2021-06-10T19:49:40.145Z"
   },
   {
    "duration": 33,
    "start_time": "2021-06-10T19:49:40.328Z"
   },
   {
    "duration": 127,
    "start_time": "2021-06-10T19:49:40.363Z"
   },
   {
    "duration": 9,
    "start_time": "2021-06-10T19:49:40.493Z"
   },
   {
    "duration": 23,
    "start_time": "2021-06-10T19:49:40.528Z"
   },
   {
    "duration": 16,
    "start_time": "2021-06-10T19:49:40.555Z"
   },
   {
    "duration": 85,
    "start_time": "2021-06-10T19:49:40.573Z"
   },
   {
    "duration": 8,
    "start_time": "2021-06-10T19:49:40.661Z"
   },
   {
    "duration": 8,
    "start_time": "2021-06-10T19:49:40.672Z"
   },
   {
    "duration": 57,
    "start_time": "2021-06-10T19:49:40.685Z"
   },
   {
    "duration": 1032,
    "start_time": "2021-06-10T19:49:40.745Z"
   },
   {
    "duration": 4,
    "start_time": "2021-06-10T19:49:41.779Z"
   },
   {
    "duration": 1246,
    "start_time": "2021-06-10T19:49:41.786Z"
   },
   {
    "duration": 537,
    "start_time": "2021-06-10T19:49:43.035Z"
   },
   {
    "duration": 386,
    "start_time": "2021-06-10T19:49:43.574Z"
   },
   {
    "duration": 517,
    "start_time": "2021-06-10T19:49:43.963Z"
   },
   {
    "duration": 958,
    "start_time": "2021-06-10T19:49:44.483Z"
   },
   {
    "duration": 15999,
    "start_time": "2021-06-10T19:49:45.444Z"
   },
   {
    "duration": 333,
    "start_time": "2021-06-10T19:50:01.446Z"
   },
   {
    "duration": 8,
    "start_time": "2021-06-10T19:50:01.784Z"
   },
   {
    "duration": 46,
    "start_time": "2021-06-10T19:50:01.795Z"
   },
   {
    "duration": 86,
    "start_time": "2021-06-10T19:50:01.844Z"
   },
   {
    "duration": 28,
    "start_time": "2021-06-10T19:50:01.933Z"
   },
   {
    "duration": 1580,
    "start_time": "2021-06-10T19:50:01.964Z"
   },
   {
    "duration": 7,
    "start_time": "2021-06-10T19:50:03.547Z"
   },
   {
    "duration": 524,
    "start_time": "2021-06-10T19:50:03.557Z"
   },
   {
    "duration": 528,
    "start_time": "2021-06-10T19:50:04.083Z"
   },
   {
    "duration": 1200,
    "start_time": "2021-06-10T19:50:04.614Z"
   },
   {
    "duration": 1190,
    "start_time": "2021-06-10T19:50:05.817Z"
   },
   {
    "duration": 5186,
    "start_time": "2021-06-10T19:50:15.706Z"
   },
   {
    "duration": 4914,
    "start_time": "2021-06-10T19:52:32.069Z"
   },
   {
    "duration": 5511,
    "start_time": "2021-06-10T19:52:59.796Z"
   },
   {
    "duration": 5094,
    "start_time": "2021-06-10T19:53:16.063Z"
   },
   {
    "duration": 5477,
    "start_time": "2021-06-10T19:53:52.357Z"
   },
   {
    "duration": 5087,
    "start_time": "2021-06-10T19:54:24.881Z"
   },
   {
    "duration": 5002,
    "start_time": "2021-06-10T19:54:44.731Z"
   },
   {
    "duration": 4059,
    "start_time": "2021-06-10T19:55:33.255Z"
   },
   {
    "duration": 7457,
    "start_time": "2021-06-10T19:55:43.003Z"
   },
   {
    "duration": 13312,
    "start_time": "2021-06-10T19:59:30.674Z"
   },
   {
    "duration": 2726,
    "start_time": "2021-06-10T20:01:11.313Z"
   },
   {
    "duration": 14675,
    "start_time": "2021-06-10T20:01:23.144Z"
   },
   {
    "duration": 2901,
    "start_time": "2021-06-10T20:02:35.126Z"
   },
   {
    "duration": 15983,
    "start_time": "2021-06-10T20:02:54.705Z"
   },
   {
    "duration": 1166,
    "start_time": "2021-06-10T20:04:45.044Z"
   },
   {
    "duration": 16523,
    "start_time": "2021-06-10T20:05:17.589Z"
   },
   {
    "duration": 39867,
    "start_time": "2021-06-10T20:06:49.473Z"
   },
   {
    "duration": 54565,
    "start_time": "2021-06-10T20:07:48.632Z"
   },
   {
    "duration": 1056,
    "start_time": "2021-06-10T20:17:18.903Z"
   },
   {
    "duration": 3675,
    "start_time": "2021-06-10T20:18:47.228Z"
   },
   {
    "duration": 53683,
    "start_time": "2021-06-10T20:19:02.112Z"
   },
   {
    "duration": 1456,
    "start_time": "2021-06-11T22:53:55.867Z"
   },
   {
    "duration": 3909,
    "start_time": "2021-06-11T22:53:57.326Z"
   },
   {
    "duration": 26,
    "start_time": "2021-06-11T22:54:01.239Z"
   },
   {
    "duration": 176,
    "start_time": "2021-06-11T22:54:01.268Z"
   },
   {
    "duration": 43,
    "start_time": "2021-06-11T22:54:01.447Z"
   },
   {
    "duration": 229,
    "start_time": "2021-06-11T22:54:01.493Z"
   },
   {
    "duration": 7,
    "start_time": "2021-06-11T22:54:01.724Z"
   },
   {
    "duration": 41,
    "start_time": "2021-06-11T22:54:01.736Z"
   },
   {
    "duration": 17,
    "start_time": "2021-06-11T22:54:01.780Z"
   },
   {
    "duration": 174,
    "start_time": "2021-06-11T22:54:01.799Z"
   },
   {
    "duration": 9,
    "start_time": "2021-06-11T22:54:01.976Z"
   },
   {
    "duration": 12,
    "start_time": "2021-06-11T22:54:01.988Z"
   },
   {
    "duration": 21,
    "start_time": "2021-06-11T22:54:02.003Z"
   },
   {
    "duration": 735,
    "start_time": "2021-06-11T22:54:02.027Z"
   },
   {
    "duration": 4,
    "start_time": "2021-06-11T22:54:02.764Z"
   },
   {
    "duration": 1193,
    "start_time": "2021-06-11T22:54:02.771Z"
   },
   {
    "duration": 605,
    "start_time": "2021-06-11T22:54:03.966Z"
   },
   {
    "duration": 407,
    "start_time": "2021-06-11T22:54:04.575Z"
   },
   {
    "duration": 529,
    "start_time": "2021-06-11T22:54:04.986Z"
   },
   {
    "duration": 768,
    "start_time": "2021-06-11T22:54:05.518Z"
   },
   {
    "duration": 53526,
    "start_time": "2021-06-11T22:54:06.290Z"
   },
   {
    "duration": 300,
    "start_time": "2021-06-11T22:54:59.818Z"
   },
   {
    "duration": 10,
    "start_time": "2021-06-11T22:55:00.124Z"
   },
   {
    "duration": 29,
    "start_time": "2021-06-11T22:55:00.154Z"
   },
   {
    "duration": 33,
    "start_time": "2021-06-11T22:55:00.186Z"
   },
   {
    "duration": 5,
    "start_time": "2021-06-11T22:55:00.221Z"
   },
   {
    "duration": 1645,
    "start_time": "2021-06-11T22:55:00.256Z"
   },
   {
    "duration": 7,
    "start_time": "2021-06-11T22:55:01.905Z"
   },
   {
    "duration": 519,
    "start_time": "2021-06-11T22:55:01.915Z"
   },
   {
    "duration": 555,
    "start_time": "2021-06-11T22:55:02.437Z"
   },
   {
    "duration": 831,
    "start_time": "2021-06-11T22:55:02.995Z"
   },
   {
    "duration": 782,
    "start_time": "2021-06-11T22:55:03.829Z"
   },
   {
    "duration": 1371,
    "start_time": "2021-06-13T14:15:32.878Z"
   },
   {
    "duration": 918,
    "start_time": "2021-06-13T14:15:34.252Z"
   },
   {
    "duration": 12,
    "start_time": "2021-06-13T14:15:35.183Z"
   },
   {
    "duration": 142,
    "start_time": "2021-06-13T14:15:35.197Z"
   },
   {
    "duration": 48,
    "start_time": "2021-06-13T14:15:35.341Z"
   },
   {
    "duration": 99,
    "start_time": "2021-06-13T14:15:35.391Z"
   },
   {
    "duration": 7,
    "start_time": "2021-06-13T14:15:35.492Z"
   },
   {
    "duration": 19,
    "start_time": "2021-06-13T14:15:35.502Z"
   },
   {
    "duration": 18,
    "start_time": "2021-06-13T14:15:35.525Z"
   },
   {
    "duration": 69,
    "start_time": "2021-06-13T14:15:35.547Z"
   },
   {
    "duration": 7,
    "start_time": "2021-06-13T14:15:35.618Z"
   },
   {
    "duration": 11,
    "start_time": "2021-06-13T14:15:35.627Z"
   },
   {
    "duration": 48,
    "start_time": "2021-06-13T14:15:35.640Z"
   },
   {
    "duration": 648,
    "start_time": "2021-06-13T14:15:35.691Z"
   },
   {
    "duration": 3,
    "start_time": "2021-06-13T14:15:36.342Z"
   },
   {
    "duration": 867,
    "start_time": "2021-06-13T14:15:36.348Z"
   },
   {
    "duration": 484,
    "start_time": "2021-06-13T14:15:37.218Z"
   },
   {
    "duration": 342,
    "start_time": "2021-06-13T14:15:37.705Z"
   },
   {
    "duration": 447,
    "start_time": "2021-06-13T14:15:38.051Z"
   },
   {
    "duration": 647,
    "start_time": "2021-06-13T14:15:38.500Z"
   },
   {
    "duration": 7120,
    "start_time": "2021-06-13T14:15:39.150Z"
   },
   {
    "duration": 477,
    "start_time": "2021-06-13T14:15:45.795Z"
   },
   {
    "duration": 473,
    "start_time": "2021-06-13T14:15:45.801Z"
   },
   {
    "duration": 470,
    "start_time": "2021-06-13T14:15:45.806Z"
   },
   {
    "duration": 469,
    "start_time": "2021-06-13T14:15:45.810Z"
   },
   {
    "duration": 468,
    "start_time": "2021-06-13T14:15:45.813Z"
   },
   {
    "duration": 468,
    "start_time": "2021-06-13T14:15:45.816Z"
   },
   {
    "duration": 467,
    "start_time": "2021-06-13T14:15:45.819Z"
   },
   {
    "duration": 465,
    "start_time": "2021-06-13T14:15:45.823Z"
   },
   {
    "duration": 465,
    "start_time": "2021-06-13T14:15:45.826Z"
   },
   {
    "duration": 465,
    "start_time": "2021-06-13T14:15:45.828Z"
   },
   {
    "duration": 463,
    "start_time": "2021-06-13T14:15:45.832Z"
   },
   {
    "duration": 764,
    "start_time": "2021-06-13T14:16:47.484Z"
   },
   {
    "duration": 2403,
    "start_time": "2021-06-13T14:17:33.554Z"
   },
   {
    "duration": 3137,
    "start_time": "2021-06-13T14:17:51.213Z"
   },
   {
    "duration": 3103,
    "start_time": "2021-06-13T14:18:09.603Z"
   },
   {
    "duration": 3479,
    "start_time": "2021-06-13T14:18:25.485Z"
   },
   {
    "duration": 394,
    "start_time": "2021-06-13T14:22:45.661Z"
   },
   {
    "duration": 449,
    "start_time": "2021-06-13T14:23:19.073Z"
   },
   {
    "duration": 5,
    "start_time": "2021-06-13T14:25:02.333Z"
   },
   {
    "duration": 966,
    "start_time": "2021-06-13T14:25:02.341Z"
   },
   {
    "duration": 13,
    "start_time": "2021-06-13T14:25:03.310Z"
   },
   {
    "duration": 144,
    "start_time": "2021-06-13T14:25:03.325Z"
   },
   {
    "duration": 36,
    "start_time": "2021-06-13T14:25:03.471Z"
   },
   {
    "duration": 108,
    "start_time": "2021-06-13T14:25:03.509Z"
   },
   {
    "duration": 7,
    "start_time": "2021-06-13T14:25:03.619Z"
   },
   {
    "duration": 24,
    "start_time": "2021-06-13T14:25:03.629Z"
   },
   {
    "duration": 41,
    "start_time": "2021-06-13T14:25:03.656Z"
   },
   {
    "duration": 67,
    "start_time": "2021-06-13T14:25:03.700Z"
   },
   {
    "duration": 7,
    "start_time": "2021-06-13T14:25:03.769Z"
   },
   {
    "duration": 9,
    "start_time": "2021-06-13T14:25:03.779Z"
   },
   {
    "duration": 16,
    "start_time": "2021-06-13T14:25:03.791Z"
   },
   {
    "duration": 674,
    "start_time": "2021-06-13T14:25:03.809Z"
   },
   {
    "duration": 4,
    "start_time": "2021-06-13T14:25:04.485Z"
   },
   {
    "duration": 1263,
    "start_time": "2021-06-13T14:25:04.491Z"
   },
   {
    "duration": 685,
    "start_time": "2021-06-13T14:25:05.756Z"
   },
   {
    "duration": 469,
    "start_time": "2021-06-13T14:25:06.445Z"
   },
   {
    "duration": 592,
    "start_time": "2021-06-13T14:25:06.916Z"
   },
   {
    "duration": 886,
    "start_time": "2021-06-13T14:25:07.510Z"
   },
   {
    "duration": 3392,
    "start_time": "2021-06-13T14:25:08.399Z"
   },
   {
    "duration": 265,
    "start_time": "2021-06-13T14:25:11.794Z"
   },
   {
    "duration": 21,
    "start_time": "2021-06-13T14:25:12.063Z"
   },
   {
    "duration": 22,
    "start_time": "2021-06-13T14:25:12.087Z"
   },
   {
    "duration": 33,
    "start_time": "2021-06-13T14:25:12.112Z"
   },
   {
    "duration": 5,
    "start_time": "2021-06-13T14:25:12.147Z"
   },
   {
    "duration": 1444,
    "start_time": "2021-06-13T14:25:12.183Z"
   },
   {
    "duration": 5,
    "start_time": "2021-06-13T14:25:13.630Z"
   },
   {
    "duration": 490,
    "start_time": "2021-06-13T14:25:13.637Z"
   },
   {
    "duration": 564,
    "start_time": "2021-06-13T14:25:14.129Z"
   },
   {
    "duration": 773,
    "start_time": "2021-06-13T14:25:14.696Z"
   },
   {
    "duration": 745,
    "start_time": "2021-06-13T14:25:15.472Z"
   },
   {
    "duration": 1173,
    "start_time": "2021-06-14T13:02:21.926Z"
   },
   {
    "duration": 886,
    "start_time": "2021-06-14T13:02:23.104Z"
   },
   {
    "duration": 12,
    "start_time": "2021-06-14T13:02:23.993Z"
   },
   {
    "duration": 131,
    "start_time": "2021-06-14T13:02:24.007Z"
   },
   {
    "duration": 21,
    "start_time": "2021-06-14T13:02:24.140Z"
   },
   {
    "duration": 96,
    "start_time": "2021-06-14T13:02:24.163Z"
   },
   {
    "duration": 7,
    "start_time": "2021-06-14T13:02:24.261Z"
   },
   {
    "duration": 30,
    "start_time": "2021-06-14T13:02:24.270Z"
   },
   {
    "duration": 13,
    "start_time": "2021-06-14T13:02:24.303Z"
   },
   {
    "duration": 64,
    "start_time": "2021-06-14T13:02:24.318Z"
   },
   {
    "duration": 11,
    "start_time": "2021-06-14T13:02:24.384Z"
   },
   {
    "duration": 7,
    "start_time": "2021-06-14T13:02:24.399Z"
   },
   {
    "duration": 13,
    "start_time": "2021-06-14T13:02:24.408Z"
   },
   {
    "duration": 601,
    "start_time": "2021-06-14T13:02:24.423Z"
   },
   {
    "duration": 3,
    "start_time": "2021-06-14T13:02:25.026Z"
   },
   {
    "duration": 526,
    "start_time": "2021-06-14T13:02:25.031Z"
   },
   {
    "duration": 313,
    "start_time": "2021-06-14T13:02:25.560Z"
   },
   {
    "duration": 287,
    "start_time": "2021-06-14T13:02:25.875Z"
   },
   {
    "duration": 272,
    "start_time": "2021-06-14T13:02:26.164Z"
   },
   {
    "duration": 304,
    "start_time": "2021-06-14T13:02:26.438Z"
   },
   {
    "duration": 2169,
    "start_time": "2021-06-14T13:02:26.744Z"
   },
   {
    "duration": 229,
    "start_time": "2021-06-14T13:02:28.915Z"
   },
   {
    "duration": 7,
    "start_time": "2021-06-14T13:02:29.148Z"
   },
   {
    "duration": 37,
    "start_time": "2021-06-14T13:02:29.158Z"
   },
   {
    "duration": 23,
    "start_time": "2021-06-14T13:02:29.201Z"
   },
   {
    "duration": 4,
    "start_time": "2021-06-14T13:02:29.226Z"
   },
   {
    "duration": 1099,
    "start_time": "2021-06-14T13:02:29.233Z"
   },
   {
    "duration": 5,
    "start_time": "2021-06-14T13:02:30.334Z"
   },
   {
    "duration": 224,
    "start_time": "2021-06-14T13:02:30.341Z"
   },
   {
    "duration": 323,
    "start_time": "2021-06-14T13:02:30.567Z"
   },
   {
    "duration": 475,
    "start_time": "2021-06-14T13:02:30.892Z"
   },
   {
    "duration": 461,
    "start_time": "2021-06-14T13:02:31.369Z"
   }
  ],
  "kernelspec": {
   "display_name": "Python 3",
   "language": "python",
   "name": "python3"
  },
  "language_info": {
   "codemirror_mode": {
    "name": "ipython",
    "version": 3
   },
   "file_extension": ".py",
   "mimetype": "text/x-python",
   "name": "python",
   "nbconvert_exporter": "python",
   "pygments_lexer": "ipython3",
   "version": "3.8.5"
  },
  "toc": {
   "base_numbering": 1,
   "nav_menu": {},
   "number_sections": true,
   "sideBar": true,
   "skip_h1_title": true,
   "title_cell": "Table of Contents",
   "title_sidebar": "Contents",
   "toc_cell": false,
   "toc_position": {},
   "toc_section_display": true,
   "toc_window_display": false
  }
 },
 "nbformat": 4,
 "nbformat_minor": 2
}
